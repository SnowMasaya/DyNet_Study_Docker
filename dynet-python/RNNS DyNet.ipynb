{
 "cells": [
  {
   "cell_type": "markdown",
   "metadata": {},
   "source": [
    "# DyNet RNNs チュートリアル\n",
    "\n",
    "チュートリアルを意訳しています。\n",
    "\n",
    "参考\n",
    "* https://github.com/clab/dynet/blob/master/examples/python/tutorials/RNNs.ipynb\n",
    "* https://media.readthedocs.org/pdf/dynet/latest/dynet.pdf"
   ]
  },
  {
   "cell_type": "code",
   "execution_count": 2,
   "metadata": {
    "collapsed": true
   },
   "outputs": [],
   "source": [
    "from dynet import *"
   ]
  },
  {
   "cell_type": "markdown",
   "metadata": {},
   "source": [
    "# LSTM/RNN 全体像\n",
    "\n",
    "１層のRNNは隠れ層を次のように分けている $h_1,...,h_k$, $h_i$ は時間ごとの指標を表している\n",
    "それぞれの層$h_i$は入力$x_i$と出力$r_i$に加えて過去の入力$r_{i-1}$も与える\n",
    "複数層の場合は連続ではなく網目状になる。例えば\n",
    "\n",
    "* $h_1^3,...,h_k^3$\n",
    "* $h_1^2,...,h_k^2$\n",
    "* $h_1^1,...h_k^1$\n",
    "\n",
    "上記の場合は\n",
    "\n",
    "隠れ層$h_i^1$の入力は$x_i$と$r_{i-1}^1$\n",
    "\n",
    "隠れ層$h_i^2$の入力は$r_i^1$と$r_{i-1}^2$　など"
   ]
  },
  {
   "cell_type": "markdown",
   "metadata": {},
   "source": [
    "# LSTM インターフェース"
   ]
  },
  {
   "cell_type": "markdown",
   "metadata": {},
   "source": [
    "RNN / LSTM / GRU は同様のインターフェースになる。\n",
    "\"builder\"が連続列のためのパラメータを作成する"
   ]
  },
  {
   "cell_type": "code",
   "execution_count": 3,
   "metadata": {
    "collapsed": false
   },
   "outputs": [],
   "source": [
    "model = Model()\n",
    "NUM_LAYERS = 2\n",
    "INPUT_DIM = 50\n",
    "HIDDEN_DIM = 10\n",
    "builder = LSTMBuilder(NUM_LAYERS, INPUT_DIM, HIDDEN_DIM, model)"
   ]
  },
  {
   "cell_type": "markdown",
   "metadata": {},
   "source": [
    "\"Builder\"でRNNの内部パラメータをモデルに加えることでパラメータを意識しなくて良くなるが最適化の際は同時に行ってくれる！！"
   ]
  },
  {
   "cell_type": "code",
   "execution_count": 4,
   "metadata": {
    "collapsed": false
   },
   "outputs": [
    {
     "data": {
      "text/plain": [
       "<_dynet.RNNState at 0x7fc46c1759a8>"
      ]
     },
     "execution_count": 4,
     "metadata": {},
     "output_type": "execute_result"
    }
   ],
   "source": [
    "s0 = builder.initial_state()\n",
    "s0"
   ]
  },
  {
   "cell_type": "code",
   "execution_count": 5,
   "metadata": {
    "collapsed": false
   },
   "outputs": [
    {
     "name": "stdout",
     "output_type": "stream",
     "text": [
      "expression 22/0\nexpression 23/0\n"
     ]
    }
   ],
   "source": [
    "print(vecInput(10))\n",
    "x1 = vecInput(INPUT_DIM)\n",
    "print(x1)"
   ]
  },
  {
   "cell_type": "code",
   "execution_count": 6,
   "metadata": {
    "collapsed": true
   },
   "outputs": [],
   "source": [
    "s1 = s0.add_input(x1)\n",
    "y1 = s1.output()"
   ]
  },
  {
   "cell_type": "code",
   "execution_count": 7,
   "metadata": {
    "collapsed": false,
    "scrolled": true
   },
   "outputs": [
    {
     "data": {
      "text/plain": [
       "(10,)"
      ]
     },
     "execution_count": 7,
     "metadata": {},
     "output_type": "execute_result"
    }
   ],
   "source": [
    "y1.npvalue().shape"
   ]
  },
  {
   "cell_type": "code",
   "execution_count": 8,
   "metadata": {
    "collapsed": false
   },
   "outputs": [
    {
     "data": {
      "text/plain": [
       "(expression 33/0, expression 43/0)"
      ]
     },
     "execution_count": 8,
     "metadata": {},
     "output_type": "execute_result"
    }
   ],
   "source": [
    "s1.h()"
   ]
  },
  {
   "cell_type": "code",
   "execution_count": 9,
   "metadata": {
    "collapsed": false
   },
   "outputs": [
    {
     "data": {
      "text/plain": [
       "expression 67/0"
      ]
     },
     "execution_count": 9,
     "metadata": {},
     "output_type": "execute_result"
    }
   ],
   "source": [
    "s2 = s1.add_input(x1)\n",
    "y2 = s2.output()\n",
    "y2"
   ]
  },
  {
   "cell_type": "markdown",
   "metadata": {},
   "source": [
    "１層の層で$y2$は隠れ層の状態と等しい。しかしながら最終層でもある。\n",
    "隠れ層の状態にアクセスしたい場合は下記のメソッドを使用する"
   ]
  },
  {
   "cell_type": "code",
   "execution_count": 10,
   "metadata": {
    "collapsed": false
   },
   "outputs": [
    {
     "data": {
      "text/plain": [
       "(expression 55/0, expression 67/0)"
      ]
     },
     "execution_count": 10,
     "metadata": {},
     "output_type": "execute_result"
    }
   ],
   "source": [
    "s2.h()"
   ]
  },
  {
   "cell_type": "markdown",
   "metadata": {},
   "source": [
    "LSTMの状態の出力を比較してみると"
   ]
  },
  {
   "cell_type": "code",
   "execution_count": 11,
   "metadata": {
    "collapsed": false
   },
   "outputs": [
    {
     "name": "stdout",
     "output_type": "stream",
     "text": [
      "all layers: (expression 33/0, expression 43/0)\n"
     ]
    }
   ],
   "source": [
    "print(\"all layers:\", s1.h())"
   ]
  },
  {
   "cell_type": "code",
   "execution_count": 12,
   "metadata": {
    "collapsed": false
   },
   "outputs": [
    {
     "name": "stdout",
     "output_type": "stream",
     "text": [
      "(expression 29/0, expression 39/0, expression 33/0, expression 43/0)\n"
     ]
    }
   ],
   "source": [
    "print( s1.s())"
   ]
  },
  {
   "cell_type": "markdown",
   "metadata": {},
   "source": [
    "同様のインターフェースでシンプルなRNNも作成可能"
   ]
  },
  {
   "cell_type": "code",
   "execution_count": 13,
   "metadata": {
    "collapsed": false
   },
   "outputs": [
    {
     "name": "stdout",
     "output_type": "stream",
     "text": [
      "(expression 75/0, expression 77/0)\n"
     ]
    }
   ],
   "source": [
    "rnnbuilder = SimpleRNNBuilder(NUM_LAYERS, INPUT_DIM, HIDDEN_DIM, model)\n",
    "\n",
    "rs0 = rnnbuilder.initial_state()\n",
    "\n",
    "rs1 = rs0.add_input(x1)\n",
    "ry1 = rs1.output()\n",
    "print( rs1.s())"
   ]
  },
  {
   "cell_type": "markdown",
   "metadata": {},
   "source": [
    "* 出力は\"output\"メソッドで行う\n",
    "* 隠れ層の値は\"h()\"メソッドで行う\n",
    "* 状態は\"s()\"で確認する\n",
    "\n",
    "LSTMのみ出力が４つになっている。これは入力層、忘却層、過去の入力層、出力層が存在するためである。"
   ]
  },
  {
   "cell_type": "code",
   "execution_count": 14,
   "metadata": {
    "collapsed": false
   },
   "outputs": [
    {
     "name": "stdout",
     "output_type": "stream",
     "text": [
      "RNN h: (expression 75/0, expression 77/0)\nRNN s: (expression 75/0, expression 77/0)\nLSTM h: (expression 33/0, expression 43/0)\nLSTM s: (expression 29/0, expression 39/0, expression 33/0, expression 43/0)\n"
     ]
    }
   ],
   "source": [
    "rnn_h = rs1.h()\n",
    "rnn_s = rs1.s()\n",
    "print(\"RNN h:\", rnn_h)\n",
    "print(\"RNN s:\", rnn_s)\n",
    "\n",
    "lstm_h = s1.h()\n",
    "lstm_s = s1.s()\n",
    "print(\"LSTM h:\", lstm_h)\n",
    "print(\"LSTM s:\", lstm_s)"
   ]
  },
  {
   "cell_type": "markdown",
   "metadata": {},
   "source": [
    "# RNNとLSTMインターフェースのオプション\n",
    "\n",
    "Stack LSTM: 過去の状態を覚えておけるのでそこに新たに追加してグラフの作成が行える。\n",
    "\n"
   ]
  },
  {
   "cell_type": "code",
   "execution_count": 15,
   "metadata": {
    "collapsed": true
   },
   "outputs": [],
   "source": [
    "s2 = s1.add_input(x1)\n",
    "s3 = s2.add_input(x1)\n",
    "s4 = s3.add_input(x1)\n",
    "\n",
    "# s3に新しい入力を加える\n",
    "s5 = s3.add_input(x1)\n",
    "\n",
    "#下記の２つの異なる列ができている\n",
    "# s0, s1, s2, s3, s4\n",
    "# s0, s1, s2, s3, s5\n",
    "\n",
    "assert(s5.prev() == s3)\n",
    "assert(s4.prev() == s3)\n",
    "\n",
    "s6 = s3.prev().add_input(x1)\n",
    "# s0, s1, s2, s6"
   ]
  },
  {
   "cell_type": "code",
   "execution_count": 16,
   "metadata": {
    "collapsed": false
   },
   "outputs": [
    {
     "data": {
      "text/plain": [
       "(expression 185/0, expression 197/0)"
      ]
     },
     "execution_count": 16,
     "metadata": {},
     "output_type": "execute_result"
    }
   ],
   "source": [
    "s6.h()"
   ]
  },
  {
   "cell_type": "markdown",
   "metadata": {},
   "source": [
    "4つの列が出力される"
   ]
  },
  {
   "cell_type": "code",
   "execution_count": 17,
   "metadata": {
    "collapsed": false
   },
   "outputs": [
    {
     "data": {
      "text/plain": [
       "(expression 181/0, expression 193/0, expression 185/0, expression 197/0)"
      ]
     },
     "execution_count": 17,
     "metadata": {},
     "output_type": "execute_result"
    }
   ],
   "source": [
    "s6.s()"
   ]
  },
  {
   "cell_type": "markdown",
   "metadata": {},
   "source": [
    "# メモリの効果的な変換\n",
    "\n",
    "入力列をlist化して今までのことを一気にやってくれる手法があります。"
   ]
  },
  {
   "cell_type": "code",
   "execution_count": 18,
   "metadata": {
    "collapsed": false
   },
   "outputs": [
    {
     "name": "stdout",
     "output_type": "stream",
     "text": [
      "[expression 201/0, expression 205/0, expression 209/0]\n[(expression 199/0, expression 201/0), (expression 203/0, expression 205/0), (expression 207/0, expression 209/0)]\n"
     ]
    }
   ],
   "source": [
    "state = rnnbuilder.initial_state()\n",
    "xs = [x1, x1, x1]\n",
    "states = state.add_inputs(xs)\n",
    "outputs = [s.output() for s in states]\n",
    "hs = [s.h() for s in states]\n",
    "print(outputs)\n",
    "print(hs)"
   ]
  },
  {
   "cell_type": "markdown",
   "metadata": {},
   "source": [
    "transduceを使用すればもっとメモリを効率よく使用でき、少ない行数でかけます。"
   ]
  },
  {
   "cell_type": "code",
   "execution_count": 19,
   "metadata": {
    "collapsed": false
   },
   "outputs": [
    {
     "name": "stdout",
     "output_type": "stream",
     "text": [
      "[expression 213/0, expression 217/0, expression 221/0]\n"
     ]
    }
   ],
   "source": [
    "state = rnnbuilder.initial_state()\n",
    "xs = [x1, x1, x1]\n",
    "outputs = state.transduce(xs)\n",
    "print(outputs)"
   ]
  },
  {
   "cell_type": "markdown",
   "metadata": {},
   "source": [
    "# 言葉レベルのLSTM\n",
    "\n",
    "ここから本格的な応用に入ります。言葉レベルのRNNですprint(outputs)\n",
    "\n",
    "* モデルのパラメータの初期的設定\n",
    "* 言葉の設定。\n",
    "* 明示的に終了と始まり符号を表す<EOS>を追加\n",
    "* コンピューターで扱うため、数字と文字の変換用の辞書を用意"
   ]
  },
  {
   "cell_type": "code",
   "execution_count": 27,
   "metadata": {
    "collapsed": true
   },
   "outputs": [],
   "source": [
    "import random\n",
    "from collections import defaultdict\n",
    "from itertools import count\n",
    "import sys\n",
    "\n",
    "LAYERS = 2\n",
    "INPUT_DIM = 50 \n",
    "HIDDEN_DIM = 50  \n",
    "\n",
    "characters = list(\"ABCDEFGHIJKLMNOPQRSTUVWXYZabcdefghijklmnopqrstuvwxyz ,.\")\n",
    "characters.append(\"<EOS>\")\n",
    "\n",
    "int2char = list(characters)\n",
    "char2int = {c:i for i,c in enumerate(characters)}\n",
    "\n",
    "VOCAB_SIZE = len(characters)"
   ]
  },
  {
   "cell_type": "markdown",
   "metadata": {},
   "source": [
    "# モデルの設定\n",
    "\n",
    "* modelのパラメータ設定\n",
    "* 61ページにlookupパラメータの意味があります。Word Embeddingのためです。\n",
    "http://phontron.com/slides/emnlp2016-dynet-tutorial-part1.pdf\n",
    "* params[\"lookup\"]は入力用\n",
    "* params[\"R\"]は出力用\n",
    "* params[\"bias\"]はバイアス用"
   ]
  },
  {
   "cell_type": "code",
   "execution_count": 28,
   "metadata": {
    "collapsed": true
   },
   "outputs": [],
   "source": [
    "model = Model()\n",
    "\n",
    "\n",
    "srnn = SimpleRNNBuilder(LAYERS, INPUT_DIM, HIDDEN_DIM, model)\n",
    "lstm = LSTMBuilder(LAYERS, INPUT_DIM, HIDDEN_DIM, model)\n",
    "\n",
    "params = {}\n",
    "params[\"lookup\"] = model.add_lookup_parameters((VOCAB_SIZE, INPUT_DIM))\n",
    "params[\"R\"] = model.add_parameters((VOCAB_SIZE, HIDDEN_DIM))\n",
    "params[\"bias\"] = model.add_parameters((VOCAB_SIZE))"
   ]
  },
  {
   "cell_type": "markdown",
   "metadata": {},
   "source": [
    "* 一つの文章に対してのメソッド：文章ごと長さが異なり処理を分けたいため定義\n",
    "* pick関数は資料の38ページ参照\n",
    "https://media.readthedocs.org/pdf/dynet/latest/dynet.pdf"
   ]
  },
  {
   "cell_type": "code",
   "execution_count": 29,
   "metadata": {
    "collapsed": true
   },
   "outputs": [],
   "source": [
    "# return compute loss of RNN for one sentence\n",
    "def do_one_sentence(rnn, sentence):\n",
    "    # setup the sentence\n",
    "    renew_cg()\n",
    "    s0 = rnn.initial_state()\n",
    "    \n",
    "    \n",
    "    R = parameter(params[\"R\"])\n",
    "    bias = parameter(params[\"bias\"])\n",
    "    lookup = params[\"lookup\"]\n",
    "    sentence = [\"<EOS>\"] + list(sentence) + [\"<EOS>\"]\n",
    "    sentence = [char2int[c] for c in sentence]\n",
    "    s = s0\n",
    "    loss = []\n",
    "    for char,next_char in zip(sentence,sentence[1:]):\n",
    "        s = s.add_input(lookup[char])\n",
    "        probs = softmax(R*s.output() + bias)\n",
    "        loss.append( -log(pick(probs,next_char)) )\n",
    "    loss = esum(loss)\n",
    "    return loss"
   ]
  },
  {
   "cell_type": "markdown",
   "metadata": {},
   "source": [
    "モデルからの文字列生成"
   ]
  },
  {
   "cell_type": "code",
   "execution_count": 30,
   "metadata": {
    "collapsed": false
   },
   "outputs": [],
   "source": [
    "# generate from model:\n",
    "def generate(rnn):\n",
    "    def sample(probs):\n",
    "        rnd = random.random()\n",
    "        for i,p in enumerate(probs):\n",
    "            rnd -= p\n",
    "            if rnd <= 0: break\n",
    "        return i\n",
    "    \n",
    "    # setup the sentence\n",
    "    renew_cg()\n",
    "    s0 = rnn.initial_state()\n",
    "    \n",
    "    R = parameter(params[\"R\"])\n",
    "    bias = parameter(params[\"bias\"])\n",
    "    lookup = params[\"lookup\"]\n",
    "    \n",
    "    s = s0.add_input(lookup[char2int[\"<EOS>\"]])\n",
    "    out=[]\n",
    "    while True:\n",
    "        probs = softmax(R*s.output() + bias)\n",
    "        probs = probs.vec_value()\n",
    "        next_char = sample(probs)\n",
    "        out.append(int2char[next_char])\n",
    "        if out[-1] == \"<EOS>\": break\n",
    "        s = s.add_input(lookup[next_char])\n",
    "    return \"\".join(out[:-1]) # strip the <EOS>"
   ]
  },
  {
   "cell_type": "markdown",
   "metadata": {},
   "source": [
    "学習のための関数"
   ]
  },
  {
   "cell_type": "code",
   "execution_count": 31,
   "metadata": {
    "collapsed": true
   },
   "outputs": [],
   "source": [
    "def train(rnn, sentence):\n",
    "    trainer = SimpleSGDTrainer(model)\n",
    "    for i in range(200):\n",
    "        loss = do_one_sentence(rnn, sentence)\n",
    "        loss_value = loss.value()\n",
    "        loss.backward()\n",
    "        trainer.update()\n",
    "        if i % 5 == 0:\n",
    "            print(loss_value)\n",
    "            print(generate(rnn))"
   ]
  },
  {
   "cell_type": "markdown",
   "metadata": {},
   "source": [
    "#実行例 RNN"
   ]
  },
  {
   "cell_type": "code",
   "execution_count": 34,
   "metadata": {
    "collapsed": false
   },
   "outputs": [
    {
     "name": "stdout",
     "output_type": "stream",
     "text": [
      "236.1481170654297\nV    ledCecOR nNe i iJ   p,lIni\n111.73921203613281\nvkMjxHIOePeinYaaPeCwe lavf,ab uGGtaoQBIdlcRPerIeA iveifdPiite QaePninZMPenI t,qBIyJsrqGPea,edVKA kezu aheiaa HwuTHwKCEw. eCCNioneZ iYen iheVRHAeA azeQlaneHGjEeLaieY.lzahaveMlaIveklInQnai HIeiE,n j.IIE, phlvDiJrJMPVcI\n69.71271514892578\na WyPzc dHgnekyX Cnu  wd Z KA Kot t dn,lO  gLan JJ. ,MA NdonehInZAd xucS \n39.31816864013672\na crRCi qorQuNG  roHn MQZ NrVIeriTAer oqe WaAp laIdudNg,WW mdonetAA eoPao.NZCJaoXeoeA qhez aneL .zkZeH vveA ,NeMlankbAof\n18.293487548828125\na quick bzotnEGzx jumped orurgohe eaYe GqKid how\n6.304571628570557\na quiCk boocn foXVj aoeci"
     ]
    },
    {
     "name": "stdout",
     "output_type": "stream",
     "text": [
      "\n1.4589166641235352\na quick brown fox jumped over the lazy dog\n0.6376856565475464\na quick brown fox jumped over the lazy dog\n0.4317273199558258\na quick brown fox jumped over the lazy dog\n0.3268947899341583\na quink brown fox jumped over the lazy dog\n0.26317718625068665\na quick brown fox jumped over the lazy dog\n0.22029975056648254\na quicu brown fox jumped over the lazy dog\n0.18946921825408936\na quick brown foxGjumped over the lazy dog\n0.1662178486585617\na quick brown fox jumped over the lazy dog\n0.14805704355239868\na quick brown fox jumped over the lazy dog\n0.1334829330444336"
     ]
    },
    {
     "name": "stdout",
     "output_type": "stream",
     "text": [
      "\na quick brown fox jumped over the lazy dog\n0.12151727825403214\na quick brown fox jumped over the lazy dog\n0.11152743548154831\na quick brown fox jumped over the lazy dog\n0.10305308550596237\na quick brown fox jumped over the lazy dog\n0.0957774892449379\na quick brown fox jumped over the lazy dog\n0.0894622728228569\na quick brown fox jumped over the lazy dog\n0.0839262530207634\na quick brown fox jumped over the lazy dog\n0.07903673499822617\na quick brown fox jumped over the lazy dog\n0.07468710094690323\na quick brown fox jumped over the lazy dog\n0.0707893893122673\na quick brown fox jumped over the lazy dog\n0.06727690249681473\na quick brown fox jumped over the lazy dog\n0.06409820914268494"
     ]
    },
    {
     "name": "stdout",
     "output_type": "stream",
     "text": [
      "\na quick brown fox jumped over the lazy dog\n0.061207789927721024\na quick brown fox jumped over the lazy dog\n0.05856694281101227\na quick brown fox jumped over the lazy dog\n0.056139763444662094\na quick brown fox jumped over the lazy dog\n0.05390631780028343\na quick brown fox jdmped over the lazy dog\n0.051854994148015976\na quick brown fox jumped over the lazy dog\n0.04994118958711624\na quick brown fox jumped over the lazy dog\n0.04816441610455513\na quick brown fox jumped over the lazy dog\n0.0465107336640358\na quick brown fox jumped over the lazy dog\n0.044971633702516556\na quick brown fox jumped over the lazy dog\n0.043531518429517746\na quick brown fox jumped over the lazy dog"
     ]
    },
    {
     "name": "stdout",
     "output_type": "stream",
     "text": [
      "\n0.04217630624771118\na quick brown fox jumped over the lazy dog\n0.04090500995516777\na quick brown fox jumped over the lazy dog\n0.0397111251950264\na quick brown fox jumped over the lazy dogbr dg fkuzu dog\n"
     ]
    }
   ],
   "source": [
    "sentence = \"a quick brown fox jumped over the lazy dog\"\n",
    "train(srnn, sentence)"
   ]
  },
  {
   "cell_type": "markdown",
   "metadata": {},
   "source": [
    "#実行例 LSTM"
   ]
  },
  {
   "cell_type": "code",
   "execution_count": 35,
   "metadata": {
    "collapsed": false
   },
   "outputs": [
    {
     "name": "stdout",
     "output_type": "stream",
     "text": [
      "407.3851318359375\nI have a pen. I have a pen. I have a pen. I have a pen. I have a pen. I have a pen. I have a pen Apple pen Ap ne PeAp PPAP PPAP\n224.27468872070312\nI have han an have A I halu han han a PiWe I IGn han hcel I havi han a pie. I have a pen I I have han abive. I have Pi I havv a pen tahe a pel. Ihhve han hive  I aan an an ave P I have hhi iAA PiAL have  pUeA hWll a I han hae a pee. I have han an an ave a Pineah hine I have I IjAI have P I have hn I have aApen I havn aFile. I have. I have a pen I IiaA hPea I have  IiMve P I hanea pee. I have aHpe. I hNvh have P I have  I have P I hale  ciAP have han han Phkve han aiI aape a pen. I have a Fi avpile apple. I haie an an an aPen I hhve han aAI hav I hale mive. hSv hav a pe a I hai. I have han a I haA I have a hile. I han a I have han have. I have han han az have a I han an an an ave a I hDve han an anea ple. I haam hive   hinea pee. I have han han a Pveu I have a pea. I have a pel. I have  plea pe., I iave P I hayv han a pele I have han have pen I have AI hai. haai have I I have  I have a PiWe I I han a I han a I have han a I have I I have  hale Ten have a pi an an aI han an hanAt Pineap PAI hane hine hive an haen I have  I havk han aUAhie. I have I have AE have I Ihle. I have uFAi hae PP I have han aapeea pen I Ihbve han a I haiA. haa hive han an aape a I have han han a pe. I hive I have I Ihve han I hive. I have btn have P I haA. have an aan an an aApen. I have a I have han aI have a Pive I have han an han an azOAe P I hai an an have. I have han a hinea pen I han L Ihhe P I hai a I have han an avve. I have. have a peJ. I have hyvk jhn a hin. I have o,oa han PihPAI have han a I hile. I have a I have Zyhikn an aape a Ptve A I havk han an an aI aave a pen  I have han an an a I han aI have  hin have a I han an a hive han avve. hin aape a I have a I aan a pen I Ihivo han an aneap.le pan. I hale  I han han P I have P I have an aneat hile  I hle I hile a I have  pPea I hin a PiEe. have havl a pen. I have a pe.. have han aape. I have an hane. I hive han tnea"
     ]
    },
    {
     "name": "stdout",
     "output_type": "stream",
     "text": [
      "\n148.99322509765625\nI hn P\n111.03691101074219\nI hhtAI qaroy\n88.94863891601562\nE taz n uLi dn dP wgoe\n68.3099136352539"
     ]
    },
    {
     "name": "stdout",
     "output_type": "stream",
     "text": [
      "\nI havk bou qu P rmve mukpe\n53.675193786621094\nI dbmZ jrFocL ble Wafg dom Yoe jaokeApeq oan ja\n43.33391571044922\nI hao jr twe rdoiwm goe foj tued over Ian Au qwiAk bam lg\n31.829288482666016\nin bri\n21.72420310974121\naD Euo d humy buiid, jo trgck fog duboe\n15.442975997924805"
     ]
    },
    {
     "name": "stdout",
     "output_type": "stream",
     "text": [
      "\na q rCwc ovei over qhe lai dudioF brown ftoeApe, Aaicpel le\n9.578254699707031\nhan jooW\n6.019927024841309\naqI quin jox ju\n3.29563045501709\na quick brogd bwog\n1.9137645959854126\nW quick rumped over the lazy dog\n1.3916668891906738"
     ]
    },
    {
     "name": "stdout",
     "output_type": "stream",
     "text": [
      "\na quick brown fox jumped over the lazy dog\n1.0904008150100708\na quick brown fox jumpeb ovwr tae lazy dog\n0.8941783905029297\na quick brown fox jumped over the lazy dog\n0.7559454441070557\na quick brown fox jumped over the lazy dog\n0.6533534526824951"
     ]
    },
    {
     "name": "stdout",
     "output_type": "stream",
     "text": [
      "\na quick brown fox jumped over the lazy dogd oxer the lazy dog\n0.5745507478713989\na quick brown fox jumped over the lazy dog\n0.5123358964920044\na quick brown fox jumped over the lazz dog\n0.46204671263694763\na quick brown fox jumped over the lazy dog\n0.4206182360649109\na quick brown fox jumped over the lazygdo fox jumped over the lazy dog"
     ]
    },
    {
     "name": "stdout",
     "output_type": "stream",
     "text": [
      "\n0.3859432339668274\na quick brown fox jumped over the lazy dog\n0.3565158545970917\na quick brown fox jumped over the lazy dog\n0.33122363686561584\na quick brown fox jumped over the lazy dog\n0.30925658345222473\na quick brown fox jumped over the lazy dog\n0.28999221324920654"
     ]
    },
    {
     "name": "stdout",
     "output_type": "stream",
     "text": [
      "\na quick brown fox jumped over the lazy dog\n0.2729540467262268\na quicd brown fox jumped over the lazy dog\n0.257779061794281\na quick brown fox juj qu dog\n0.2441854476928711\na quick brown fox jumped over the lazy dog\n0.23192983865737915\na quick brown fox jumped over the lazy dog\n0.22082608938217163"
     ]
    },
    {
     "name": "stdout",
     "output_type": "stream",
     "text": [
      "\na quick brown fox jumped over the lazy dog\n0.2107265144586563\na quick brown fox jumped over the lazy dog\n0.2014971673488617\na quick brown fox jumped over the lazy dog\n0.19304190576076508\na quick brown fox jumped over the lazy dog\n0.1852589100599289\na quick brown fox jumped over the lazy dog\n0.17806701362133026"
     ]
    },
    {
     "name": "stdout",
     "output_type": "stream",
     "text": [
      "\na quick brown fox jumped over the lazy dog\n0.17141544818878174\na quick brown fox jumped over the lazy dog\n"
     ]
    }
   ],
   "source": [
    "sentence = \"a quick brown fox jumped over the lazy dog\"\n",
    "train(lstm, sentence)"
   ]
  },
  {
   "cell_type": "code",
   "execution_count": 36,
   "metadata": {
    "collapsed": true
   },
   "outputs": [
    {
     "name": "stdout",
     "output_type": "stream",
     "text": [
      "581.0768432617188\na quick brown fox jumped over mhe lazy dog\n80.7076187133789\na pen b\n29.160541534423828"
     ]
    },
    {
     "name": "stdout",
     "output_type": "stream",
     "text": [
      "\na q qan.f bpee. Pineapple PenP PxPe\n20.348590850830078\na Pineapple pan\n14.379410743713379"
     ]
    },
    {
     "name": "stdout",
     "output_type": "stream",
     "text": [
      "\nI have a pen. I have a pen. I have a pen. I have a pen. I have an apple. Apple pen. I have a pen. I have a pen. I have a pen. I have a pen. I have a Pineapple. Pineapple pan.j Pineapple pan.Apple pen. I have a pen. I have a pen. I have a pen. I have an apple. Apple pen. I have a pen. I have a pen. I have an apple. Apple a Pineapple. Pineapple pan fPAP\n11.341286659240723\nI have a pen. I have a pen. I have a PineapplemAP\n12.960704803466797"
     ]
    },
    {
     "name": "stdout",
     "output_type": "stream",
     "text": [
      "\nI have a\n11.388411521911621\nI have a pen. I have a pen. I Lave a Pineapple. Paneapple pan.Apple pen, Pineapple Pen, Pineapple Pen, Pineapple pan.Apple pen, Pineapple Apple Pen PPAP PPAP PPAP PPAP PPAA PPAP PPAP PPAP PPAP PPAP PPAP PPAP PPAP\n11.969993591308594"
     ]
    },
    {
     "name": "stdout",
     "output_type": "stream",
     "text": [
      "\nI have a PiAP\n10.483719825744629\nI have an apple. Apple pen. I have an apple. Apple pen. I have a pen. I have a Peneapple. Pineapple pan.Apple pen, Pineapple pan.Apple.p PPAP\n18.223918914794922"
     ]
    },
    {
     "name": "stdout",
     "output_type": "stream",
     "text": [
      "\nI have a pen. I have an apple. Apple pen. I have a Pineapple, Pinean PApple. Apple pen, Pineapple AppPe Pen PPAP PPAP Pineapple. Pineapple pan.Apple pen, Pineapple Pen, Pineapple. Pineapple pan.Apple pen, Pineapple. Pineapple Pen, Pineapple. Pineapple Apple Pen PPAP PPAP PPAP\n8.437355041503906\nI have a pen. I have a pen. I have a Pineapple. Pineapple pan,Apple pan.Apple pen, Pineapple Pen, Pineapple Apple Pen PPAP PPAP PPAP\n7.929374694824219"
     ]
    },
    {
     "name": "stdout",
     "output_type": "stream",
     "text": [
      "\nI have a pen. I have a pen. I have a Pineapple. Pineapple pan.Apple pen, Pineapple Apple Pen PPAP PPAP PPApple. I have a Pineapple. Pineapple pan.Apple pen, Pineapple Apple Pen PPAP PPAP PPAP\n7.426538467407227\nI have a pen. I have an apple. pan. Pineapple. Pineapple pan.Apple pen, Pineapple Pen, Pineapple Pen, Pineapple Pen, Pineapple Apple Pen Pineapple pan.Apple pen, Pineapple Pen, Pineapple Pen, Pineapple Pen, Pineapple Pen, Pineapple Apple Pen PPAP PPAP PPAP"
     ]
    },
    {
     "name": "stdout",
     "output_type": "stream",
     "text": [
      "\n6.224359512329102\nI have a pen. I have a Pineapple. Pineapple pan.Apple pen, Pineapple pan.Apple pen, Pineapple Apple Pen PPAP PPAP PPAP\n10.256949424743652"
     ]
    },
    {
     "name": "stdout",
     "output_type": "stream",
     "text": [
      "\nI have a pen. I have a pen. I have a pen. I have a Pineapple. Pineapple pan.Apple pen, Pineapple Pen, Pineapple Pen, Pineapple Apple Pen PPAP PPAP PPAP\n6.634299278259277\nI have a pen. I have a pen. I have a pen. I have a Pineapple. Pineapple Pen, Pineapple Pen, Pineapple Pen, Pineapple Apple Pen PPAP PPAP PPAP"
     ]
    },
    {
     "name": "stdout",
     "output_type": "stream",
     "text": [
      "\n7.466175079345703\nI have an apple. Apple pen. v have an apple. Apple pen. AI have an apple. Apple pen. I have a Pineapple. Pineapple pan.Apple pen, Pineapple Apple Pen PPAP PPAP PPAP\n7.441642761230469"
     ]
    },
    {
     "name": "stdout",
     "output_type": "stream",
     "text": [
      "\nI have a pen. I have an apple. Apple pen. I have an apple. Apple pen. I have a pen. I have a Pineapple. Pineapple pan.Apple pen, Pineapple Apple Pen PPAP PPAP PPAP\n9.235997200012207\nI have a pen. I have a pen. I have a pen. I have a pen. I have an apple. Apple pen. I have an apple. Apple pen. I have an apple. Apple pen. I have an apple. Apple pen. I have a pen. I have an apple. Apple pen. I have a pen. I have a Pineapple. Pineapple pan.Apple pan.Apple pen, Pineapple pan.Apple pan.Apple pen, Pineapple Apple Pen PPAP PPAP PPAP"
     ]
    },
    {
     "name": "stdout",
     "output_type": "stream",
     "text": [
      "\n3.6421146392822266\nI have a pen. I have an apple. Apple pen. I have a pen. I have an apple. Apple pen. I have a pen. I have an apple. Apple pen. I have a pen. I have an apple.e Pineapple pan.Apple pen, Pineapple pan.q Piie. Apple pen. I have a pen. I have a Pineapple. Pineapple pan,, PPAP PPAP PPAP"
     ]
    },
    {
     "name": "stdout",
     "output_type": "stream",
     "text": [
      "\n3.7775561809539795\nI have a Pineapple. Pineapple pan.Apple pen, Pineapple Pen, Pineapple Pen, Pineapple Apple Pen PPAP PPAP PPAPn PPAP\n4.494126319885254"
     ]
    },
    {
     "name": "stdout",
     "output_type": "stream",
     "text": [
      "\nI have a pen. I have an apple. Apple pen. I have a pen. I have a Pineapple. Pineapple pan.Apple pen, Pineapple Pen, Pineapple Apple Pen PPAP PPAP PPAP\n7.931119918823242\nI have a pen. I have a Pineapple Apple Pen PPAP PPAP PPAP\n2.3151206970214844"
     ]
    },
    {
     "name": "stdout",
     "output_type": "stream",
     "text": [
      "\nI have a pen. I have a pen. I have an apple. Apple pen. I have a pen. I have a Pineapple. Pineapple pan.Apple pen, Pineapple Apple Pen PPAP PPAP PPAP\n2.482482671737671\nI have a pen. I have an apple. Apple pen. I have a pen. I have an apple. Apple pen. I have a pen. I have a Pineapple. Pineapple Pen, Pineapple Apple Pen PPAP PPAP PUAP"
     ]
    },
    {
     "name": "stdout",
     "output_type": "stream",
     "text": [
      "\n2.1785755157470703\nI have a pen. I have a Pineapple. Pineapple pan.Apple pen, Pineapple Pen, Pineapple. Pineapple pan.Apple pen, Pineapple Pen, Pineapple Apple Pen PPAP PPAP PPAP\n3.8524208068847656"
     ]
    },
    {
     "name": "stdout",
     "output_type": "stream",
     "text": [
      "\nI have a pen. I have a Pineapple. Pineapple pan.Apple pen, Pineapple Pen, Pineapple Apple Pen, Pineapple Apple Pen, Pineapple Apple Pen, Pineapple Apple Pen, Pineapple Apple Pen, Pineapple Apple pan.Apple pen, Pineapple Paneapple Apple Pen, Pineapple Apple apple PPAP PPAP PPAPip\n1.8930540084838867"
     ]
    },
    {
     "name": "stdout",
     "output_type": "stream",
     "text": [
      "\nI have a pen. I have a Pineapple. Pineapple pan.Apple pen, Pineapple Pen, Pineapple Apple Pen PPAP PPAP PPAP\n2.28940486907959\nI have a pen. I have an apple. Apple pen. I have a pen. I have an apple. Apple pen. I have a pen. I have an apple. Apple pen. I have a pen. I have an apple. Apple pen. I have a pen. I have an apple. Apple pen. I have a pen. I have an apple. Apple pen. I have a pen. I have an apple. Apple pen. I have a pen. I have an apple. Apple pen. I have a pen. I have a Pineapple. Pineapple pan.Apple pen, Pineapple Pen, Pineapple Apple Pen PPAP PPAP PPAP"
     ]
    },
    {
     "name": "stdout",
     "output_type": "stream",
     "text": [
      "\n2.1136343479156494\nI have a pen. I have a Pineapple. Pineapple pan.Apple pen, Pineapple Pen, Pineapple Apple Pen PPAP PPAP PPAP\n2.0328311920166016"
     ]
    },
    {
     "name": "stdout",
     "output_type": "stream",
     "text": [
      "\nI have a pen. I have an apple. Apple pen. I have a pen. I have an apple. Apple pen. I have a pen. I have an apple. Apple pen. I have a pen. I have an apple. Apple pen. I have a pen. I have a Pineapple. Pineapple pan.Apple pen, Pineapple Pen, Pineapple Apple Pen PPAP PPAP PPAP\n1.9572439193725586"
     ]
    },
    {
     "name": "stdout",
     "output_type": "stream",
     "text": [
      "\nI have a pen. I have a Pineapple. Pineapple pan.Apple pen, Pineapple Pen, Pineapple Apple Pen PPAP PPAP PPAP\n1.9161453247070312"
     ]
    },
    {
     "name": "stdout",
     "output_type": "stream",
     "text": [
      "\nI have a pen. I have a Pineapple. Pineapple pan.Apple pen, Pineapple Pen, Pineapple Apple Pen PPAP PPAP PPAP\n1.869955062866211\nI have a pen. I have a Pineapple. Pineapple pan.Apple pen, Pineapple Pen, Pineapple Apple Pen PPAP PPAP PPAP\n1.8431320190429688"
     ]
    },
    {
     "name": "stdout",
     "output_type": "stream",
     "text": [
      "\nI have a pen. I have a Pineapple. Pineapple pan.Apple pen, Pineapple Pen, Pineapple Apple Pen PPAP PPAP PPAP\n1.8111820220947266\nI have a pen. I have a Pineapple. Pineapple pan.Apple pen, Pineapple Pen, Pineapple Apple Pen PPAP PPAP PPAP\n1.7916518449783325"
     ]
    },
    {
     "name": "stdout",
     "output_type": "stream",
     "text": [
      "\nI have a pen. I have a Pineapple. Pineapple pan.Apple pen, Pineapple Pen, Pineapple Apple Pen PPAP PPAP PPAP\n1.767293930053711"
     ]
    },
    {
     "name": "stdout",
     "output_type": "stream",
     "text": [
      "\nI have a pen. I have an apple. Apple pen. I have a pen. I have an apple. Apple pen. I have a pen. I have an apple. Apple pen. I have a pen. I have a Pineapple. Pineapple pan.Apple pen, Pineapple Pen, Pineapple Apple Pen PPAP PPAP PPAP\n1.751880407333374\nI have a pen. I have an apple. Apple pen. I have a pen. I have an apple. Apple pen. I have a pen. I have an apple. Apple pen. I have a pen. I have an apple. Apple pen. I have a pen. I have an apple. Apple pen. I have a pen. I have an apple. Apple pen. I have a pen. I have an apple. Apple pen. I have a pen. I have a Pineapple. Pineapple pan.Apple pen, Pineapple Pen, Pineapple Apple Pen PPAP PPAP PPAP"
     ]
    },
    {
     "name": "stdout",
     "output_type": "stream",
     "text": [
      "\n"
     ]
    }
   ],
   "source": [
    "sentence = \"I have a pen. I have an apple. Apple pen. \" \\\n",
    "           \"I have a pen. I have a Pineapple. Pineapple pan.\" \\\n",
    "           \"Apple pen, Pineapple Pen, Pineapple Apple Pen \" \\\n",
    "           \"PPAP PPAP PPAP\"\n",
    "train(lstm, sentence)"
   ]
  },
  {
   "cell_type": "code",
   "execution_count": 37,
   "metadata": {
    "collapsed": true
   },
   "outputs": [
    {
     "name": "stdout",
     "output_type": "stream",
     "text": [
      "1.7322301864624023\nI have a pen. I have a Pineapple. Pineapple pan.Apple pen, Pineapple Pen, Pineapple Apple Pen PPAP PPAP PPAP\n1.7193708419799805"
     ]
    },
    {
     "name": "stdout",
     "output_type": "stream",
     "text": [
      "\nI have a pen. I have an apple. Apple pen. I have a pen. I have an apple. Apple pen. I have a pen. I have an apple. Apple pen. I Iave a pen. I have an apple. Apple pen. I have a pen. I have an apple. Apple pen. I have a pen. I have an apple. Apple pen. I have a pen. I have an apple. Apple pen. I have a pen. I have an apple. Apple pen. I have a pen. I have an apple.. Pineapple pan.Apple pen, Pineapple Pen, Pineapple Apple Pen PPAP PPAP PPAP\n1.7029553651809692"
     ]
    },
    {
     "name": "stdout",
     "output_type": "stream",
     "text": [
      "\nI have a pen. I have a Pineapple. Pineapple pan.Apple pen, Pineapple Pen, Pineapple Apple Pen PPAP PPAP PPAP\n1.6918668746948242\nI have a pen. I have a Pineapple. Pineapple pan.Apple pen, Pineapple Pen, Pineapple Apple Pen PPAP PPAP PPAP\n1.6779470443725586"
     ]
    },
    {
     "name": "stdout",
     "output_type": "stream",
     "text": [
      "\nI have a pen. I have an apple. Apple pen. I have a pen. I have a Pineapple. Pineapple pan.Apple pen, Pineapple Pen, Pineapple Apple Pen PPAP PPAP PPAP\n1.6682463884353638\nI have a pen. I have a pen. I have a Pineapple. Pineapple pan.Apple pen, Pineapple Pen, Pineapple Apple Pen PPAP PPAP PPAP\n1.6564781665802002"
     ]
    },
    {
     "name": "stdout",
     "output_type": "stream",
     "text": [
      "\nI have a pen. I have a Pineapple. Pineapple pan.Apple pen, Pineapple Pen, Pineapple Apple Pen PPAP PPAP PPAP\n1.6480209827423096\nI have a pen. I have an apple. Apple pen. I have a pen. I have an apple. Apple pen. I have a pen. I have a Pineapple. Pineapple pan.Apple pen, Pineapple Pen, Pineapple Apple Pen PPAP PPAP PPAP"
     ]
    },
    {
     "name": "stdout",
     "output_type": "stream",
     "text": [
      "\n1.6383086442947388\nI have a pen. I have a Pineapple. Pineapple pan.Apple pen, Pineapple Pen, Pineapple Apple Pen PPAP PPAP PPAP\n1.631072998046875"
     ]
    },
    {
     "name": "stdout",
     "output_type": "stream",
     "text": [
      "\nI have a pen. I have an apple. Apple pen. I have a pen. I have an apple. Apple pen. I have a pen. I have an apple. Apple pen. I have a pen. I have an apple. Apple pen. I have a pen. I have an apple. Apple pen. I have a pen. I have an apple. Apple pen. I have a pen. I have an apple. Apple pen. I have a pen. I have a Pineapple. Pineapple pan.Apple pen, Pineapple Pen, Pineapple Apple Pen PPAP PPAP PPAP\n1.623551368713379"
     ]
    },
    {
     "name": "stdout",
     "output_type": "stream",
     "text": [
      "\nI have a pen. I have an apple. Apple pen. I have a pen. I have a Pineapple. Pineapple pan.Apple pen, Pineapple Pen, Pineapple Apple Pen PPAP PPAP PPAP\n1.6176750659942627\nI have a pen. I have a Pineapple. Pineapple pan.Apple pen, Pineapple Pen, Pineapple Apple Pen PPAP PPAP PPAP"
     ]
    },
    {
     "name": "stdout",
     "output_type": "stream",
     "text": [
      "\n1.6130430698394775\nI have a pen. I have a Pineapple. Pineapple pan.Apple pen, Pineapple Pen, Pineapple Apple Pen PPAP PPAP PPAP\n1.6091023683547974"
     ]
    },
    {
     "name": "stdout",
     "output_type": "stream",
     "text": [
      "\nI have a pen. I have a Pineapple. Pineapple pan.Apple pen, Pineapple Pen, Pineapple Apple Pen PPAP PPAP PPAP\n1.6100143194198608\nI have a pen. I have a Pineapple. Pineapple pan.Apple pen, Pineapple Pen, Pineapple Apple Pen PPAP PPAP PPAP\n1.6100703477859497"
     ]
    },
    {
     "name": "stdout",
     "output_type": "stream",
     "text": [
      "\nI have a pen. I have a Pineapple. Pineapple pan.Apple pen, Pineapple Pen, Pineapple Apple Pen PPAP PPAP PPAP\n1.6290106773376465\nI have a pen. I have an apple. Apple pen. I have a pen. I have a Pineapple. Pineapple pan.Apple pen, Pineapple Pen, Pineapple Apple Pen PPAP PPAP PPAP"
     ]
    },
    {
     "name": "stdout",
     "output_type": "stream",
     "text": [
      "\n1.6387262344360352\nI have a pen. I have a Pineapple. Pineapple pan.Apple pen, Pineapple Pen, Pineapple Apple Pen PPAP PPAP PPAPn PPAP\n1.7738533020019531"
     ]
    },
    {
     "name": "stdout",
     "output_type": "stream",
     "text": [
      "\nI have a pen. I have an apple. Apple pen. I have a pen. I have a Pineapple. Pineapple pan.Apple pen, Pineapple Pen, Pineapple Apple Pen PPAP PPAP PPAP\n9.317721366882324\nI have a pen. I have a pen. I have a pen. I have a pen. I have a pen. I have a pen. I have a pen. I have a Pineapple. Pineapple pan.Apple pen, Pineapple Pen, Pineapple Apple Pen PPAP PPAP PPAP\n4.6199798583984375"
     ]
    },
    {
     "name": "stdout",
     "output_type": "stream",
     "text": [
      "\nI have an apple. Apple pen. I have a Pineapple. Pineapple pan.Apple pen, Pineapple Pen, Pineapple Apple Pen PPAP PPAP PPAP\n5.6844282150268555\nI have a pen. I have a Pineapple. Pineapple pan.Apple pen, Pineapple Pen, Pineapple Apple Pen PPAP PPAP PPAP\n1.7209587097167969"
     ]
    },
    {
     "name": "stdout",
     "output_type": "stream",
     "text": [
      "\nI have a pen. I have an apple. Apple pen. I have a pen. I have a Pineapple. Pineapple pan.Apple pen, Pineapple Pen, Pineapple Apple Pen PPAP PPAP PPAP\n1.7108879089355469"
     ]
    },
    {
     "name": "stdout",
     "output_type": "stream",
     "text": [
      "\nI have a pen. I have a Pineapple. Pineapple pan.Apple pen, Pineapple Pen, Pineapple Apple Pen PPAP PPAP PPAP\n1.649155616760254\nI have a pen. I have an apple. Apple pen. I have a pen. I have an apple. Apple pen. I have a pen. I have an apple. Apple pen. I have a pen. I have an apple. Apple pen. I have a pen. I have an apple. Apple pen. I have a pen. I have an apple. Apple pen. I have a pen. I have an apple. Apple pen. I have a pen. I have an apple. Apple pen. I have a pen. I have an apple. Apple pen. I have a pen. I have an apple. Apple pen. I have a pen. I have an apple. Apple pen. I have a pen. I have a Pineapple. Pineapple pan.Apple pen, Pineapple Pen, Pineapple Apple Pen PPAP PPAP PPAP"
     ]
    },
    {
     "name": "stdout",
     "output_type": "stream",
     "text": [
      "\n1.6029291152954102\nI have a pen. I have a Pineapple. Pineapple pan.Apple pen, Pineapple Pen, Pineapple Apple Pen PPAP PPAP PPAP\n1.575169563293457"
     ]
    },
    {
     "name": "stdout",
     "output_type": "stream",
     "text": [
      "\nI have a pen. I have an apple. Apple pen. I have a pen. I have an apple. Apple pen. I have a pen. I have a Pineapple. Pineapple pan.Apple pen, Pineapple Pen, Pineapple Apple Pen PPAP PPAP PPAP\n1.5561296939849854\nI have a pen. I have an apple. Apple pen. I have a pen. I have an apple. Apple pen. I have a pen. I have a Pineapple. Pine pen. I have a pen. I have a Pineapple. Pineapple pan.Apple pen, Pineapple Pen, Pineapple Apple Pen PPAP PPAP PPAP\n1.5432233810424805"
     ]
    },
    {
     "name": "stdout",
     "output_type": "stream",
     "text": [
      "\nI have a pen. I have an apple. Apple pen. I have a pen. I have a Pineapple. Pineapple pan.Apple pen, Pineapple Pen, Pineapple Apple Pen PPAP PPAP PPAP\n1.5331577062606812\nI have a pen. I have an apple. Apple pen. I have a pen. I have a Pineapple. Pineapple pan.Apple pen, Pineapple Pen, Pineapple Apple Pen PPAP PPAP PPAP PPAP PPAP"
     ]
    },
    {
     "name": "stdout",
     "output_type": "stream",
     "text": [
      "\n1.526119351387024\nI have a pen. I have an apple. Apple pen. I have a pen. I have a Pineapple. Pineapple pan.Apple pen, Pineapple Pen, Pineapple Apple Pen PPAP PPAP PPAP\n1.5206149816513062"
     ]
    },
    {
     "name": "stdout",
     "output_type": "stream",
     "text": [
      "\nI have a pen. I have an apple. Apple pen. I have a pen. I have a Pineapple. Pineapple pan.Apple pen, Pineapple Pen, Pineapple Apple Pen PPAP PPAP PPAP\n1.5172959566116333\nI have a pen. I have a Pineapple. Pineapple pan.Apple pen, Pineapple Pen, Pineapple Apple Pen PPAP PPAP PPAP\n1.5163594484329224"
     ]
    },
    {
     "name": "stdout",
     "output_type": "stream",
     "text": [
      "\nI have a pen. I have an apple. Apple pen. I have a pen. I have an apple. Apple pen. I have a pen. I have a Pineapple. Pineapple pan.Apple pen, Pineapple Pen, Pineapple Apple Pen PPAP PPAP PPAP\n1.5192756652832031\nI have a pen. I have an apple. Apple pen. I have a pen. I have a Pineapple. Pineapple pan.Apple pen, Pineapple Pen, Pineapple Apple Pen PPAP PPAP PPAP"
     ]
    },
    {
     "name": "stdout",
     "output_type": "stream",
     "text": [
      "\n1.549663782119751\nI have a pen. I have an apple. Apple pen. I have a pen. I have a Pineapple. Pineapple pan.Apple pen, Pineapple Pen, Pineapple Apple Pen PPAP PPAP PPAP"
     ]
    },
    {
     "name": "stdout",
     "output_type": "stream",
     "text": [
      "\n5.425973892211914\nI have a pen. I have a Pineapple Apple Pen PPAP PPAP PPAP\n10.695525169372559"
     ]
    },
    {
     "name": "stdout",
     "output_type": "stream",
     "text": [
      "\nI have a pen. I have an apple. Apple pen. I have a pen. I have a Pineapple. Pineapple pan.Apple pen, Pineapple Pen, Pineapple Pen, Pineapple Pen, Pineapple Apple Pen PPAP PPAP PPAP\n1.468654751777649\nI have a pen. I have a Pineapple. Pineapple pan.Apple pen, Pineapple Pen, Pineapple Apple Pen PPAP PPAP PPAP\n1.2837448120117188"
     ]
    },
    {
     "name": "stdout",
     "output_type": "stream",
     "text": [
      "\nI have a pen. I have a pen. I have a pen. I have a pen. I have a pen. I have a pen. I have a pen. I have a pen. I have a pen. I have a pen. I have a pen. I have a pen. I have a pen. I have a pen. I have a pen. I have a pen. I have a pen. I have a pen. I have a pen. I have a pen. I have a pen. I have a pen. I have a pen. I have a pen. I have a pen. I have a pen. I have a pen. I have a pen. I have a pen. I have a pen. I have a pen. I have a pen. I have a pen. I have a pen. I have a pen. I have a pen. I have a pen. I have a pen. I have a pen. I have a pen. I have a pen. I have a pen. I have a pen. I have a pen. I have a pen. I have a pen. I have a pen. I have a pen. I have a pen. I have a pen. I have a pen. I have a pen. I have a pen. I have a pen. I have a pen. I have a pen. I have a pen. I have a pen. I have a pen. I have a pen. I have a pen. I have a pen. I have a pen. I have a pen. I have a pen. I have a pen. I have a pen. I have a pen. I have a pen. I have a pen. I have a pen. I have a pen. I have a pen. I have a pen. I have a pen. I have a pen. I have a pen. I have a pen. I have a pen. I have a pen. I have a pen. I have a pen. I have a pen. I have a pen. I have a pen. I have a pen. I have a pen. I have a pen. I have a pen. I have a pen. I have a pen. I have a pen. I have a pen. I have a pen. I have a pen. I have a pen. I have a pen. I have a pen. I have a pen. I have a pen. I have a pen. I have a pen. I have a pen. I have a pen Apple Pen PPAP PPAP PPAP\n"
     ]
    }
   ],
   "source": [
    "sentence = \"I have a pen. I have an apple. Apple pen. \" \\\n",
    "           \"I have a pen. I have a Pineapple. Pineapple pan.\" \\\n",
    "           \"Apple pen, Pineapple Pen, Pineapple Apple Pen \" \\\n",
    "           \"PPAP PPAP PPAP\"\n",
    "train(lstm, sentence)"
   ]
  },
  {
   "cell_type": "code",
   "execution_count": 37,
   "metadata": {
    "collapsed": true
   },
   "outputs": [
    {
     "name": "stdout",
     "output_type": "stream",
     "text": [
      "1.7322301864624023\nI have a pen. I have a Pineapple. Pineapple pan.Apple pen, Pineapple Pen, Pineapple Apple Pen PPAP PPAP PPAP\n1.7193708419799805"
     ]
    },
    {
     "name": "stdout",
     "output_type": "stream",
     "text": [
      "\nI have a pen. I have an apple. Apple pen. I have a pen. I have an apple. Apple pen. I have a pen. I have an apple. Apple pen. I Iave a pen. I have an apple. Apple pen. I have a pen. I have an apple. Apple pen. I have a pen. I have an apple. Apple pen. I have a pen. I have an apple. Apple pen. I have a pen. I have an apple. Apple pen. I have a pen. I have an apple.. Pineapple pan.Apple pen, Pineapple Pen, Pineapple Apple Pen PPAP PPAP PPAP\n1.7029553651809692"
     ]
    },
    {
     "name": "stdout",
     "output_type": "stream",
     "text": [
      "\nI have a pen. I have a Pineapple. Pineapple pan.Apple pen, Pineapple Pen, Pineapple Apple Pen PPAP PPAP PPAP\n1.6918668746948242\nI have a pen. I have a Pineapple. Pineapple pan.Apple pen, Pineapple Pen, Pineapple Apple Pen PPAP PPAP PPAP\n1.6779470443725586"
     ]
    },
    {
     "name": "stdout",
     "output_type": "stream",
     "text": [
      "\nI have a pen. I have an apple. Apple pen. I have a pen. I have a Pineapple. Pineapple pan.Apple pen, Pineapple Pen, Pineapple Apple Pen PPAP PPAP PPAP\n1.6682463884353638\nI have a pen. I have a pen. I have a Pineapple. Pineapple pan.Apple pen, Pineapple Pen, Pineapple Apple Pen PPAP PPAP PPAP\n1.6564781665802002"
     ]
    },
    {
     "name": "stdout",
     "output_type": "stream",
     "text": [
      "\nI have a pen. I have a Pineapple. Pineapple pan.Apple pen, Pineapple Pen, Pineapple Apple Pen PPAP PPAP PPAP\n1.6480209827423096\nI have a pen. I have an apple. Apple pen. I have a pen. I have an apple. Apple pen. I have a pen. I have a Pineapple. Pineapple pan.Apple pen, Pineapple Pen, Pineapple Apple Pen PPAP PPAP PPAP"
     ]
    },
    {
     "name": "stdout",
     "output_type": "stream",
     "text": [
      "\n1.6383086442947388\nI have a pen. I have a Pineapple. Pineapple pan.Apple pen, Pineapple Pen, Pineapple Apple Pen PPAP PPAP PPAP\n1.631072998046875"
     ]
    },
    {
     "name": "stdout",
     "output_type": "stream",
     "text": [
      "\nI have a pen. I have an apple. Apple pen. I have a pen. I have an apple. Apple pen. I have a pen. I have an apple. Apple pen. I have a pen. I have an apple. Apple pen. I have a pen. I have an apple. Apple pen. I have a pen. I have an apple. Apple pen. I have a pen. I have an apple. Apple pen. I have a pen. I have a Pineapple. Pineapple pan.Apple pen, Pineapple Pen, Pineapple Apple Pen PPAP PPAP PPAP\n1.623551368713379"
     ]
    },
    {
     "name": "stdout",
     "output_type": "stream",
     "text": [
      "\nI have a pen. I have an apple. Apple pen. I have a pen. I have a Pineapple. Pineapple pan.Apple pen, Pineapple Pen, Pineapple Apple Pen PPAP PPAP PPAP\n1.6176750659942627\nI have a pen. I have a Pineapple. Pineapple pan.Apple pen, Pineapple Pen, Pineapple Apple Pen PPAP PPAP PPAP"
     ]
    },
    {
     "name": "stdout",
     "output_type": "stream",
     "text": [
      "\n1.6130430698394775\nI have a pen. I have a Pineapple. Pineapple pan.Apple pen, Pineapple Pen, Pineapple Apple Pen PPAP PPAP PPAP\n1.6091023683547974"
     ]
    },
    {
     "name": "stdout",
     "output_type": "stream",
     "text": [
      "\nI have a pen. I have a Pineapple. Pineapple pan.Apple pen, Pineapple Pen, Pineapple Apple Pen PPAP PPAP PPAP\n1.6100143194198608\nI have a pen. I have a Pineapple. Pineapple pan.Apple pen, Pineapple Pen, Pineapple Apple Pen PPAP PPAP PPAP\n1.6100703477859497"
     ]
    },
    {
     "name": "stdout",
     "output_type": "stream",
     "text": [
      "\nI have a pen. I have a Pineapple. Pineapple pan.Apple pen, Pineapple Pen, Pineapple Apple Pen PPAP PPAP PPAP\n1.6290106773376465\nI have a pen. I have an apple. Apple pen. I have a pen. I have a Pineapple. Pineapple pan.Apple pen, Pineapple Pen, Pineapple Apple Pen PPAP PPAP PPAP"
     ]
    },
    {
     "name": "stdout",
     "output_type": "stream",
     "text": [
      "\n1.6387262344360352\nI have a pen. I have a Pineapple. Pineapple pan.Apple pen, Pineapple Pen, Pineapple Apple Pen PPAP PPAP PPAPn PPAP\n1.7738533020019531"
     ]
    },
    {
     "name": "stdout",
     "output_type": "stream",
     "text": [
      "\nI have a pen. I have an apple. Apple pen. I have a pen. I have a Pineapple. Pineapple pan.Apple pen, Pineapple Pen, Pineapple Apple Pen PPAP PPAP PPAP\n9.317721366882324\nI have a pen. I have a pen. I have a pen. I have a pen. I have a pen. I have a pen. I have a pen. I have a Pineapple. Pineapple pan.Apple pen, Pineapple Pen, Pineapple Apple Pen PPAP PPAP PPAP\n4.6199798583984375"
     ]
    },
    {
     "name": "stdout",
     "output_type": "stream",
     "text": [
      "\nI have an apple. Apple pen. I have a Pineapple. Pineapple pan.Apple pen, Pineapple Pen, Pineapple Apple Pen PPAP PPAP PPAP\n5.6844282150268555\nI have a pen. I have a Pineapple. Pineapple pan.Apple pen, Pineapple Pen, Pineapple Apple Pen PPAP PPAP PPAP\n1.7209587097167969"
     ]
    },
    {
     "name": "stdout",
     "output_type": "stream",
     "text": [
      "\nI have a pen. I have an apple. Apple pen. I have a pen. I have a Pineapple. Pineapple pan.Apple pen, Pineapple Pen, Pineapple Apple Pen PPAP PPAP PPAP\n1.7108879089355469"
     ]
    },
    {
     "name": "stdout",
     "output_type": "stream",
     "text": [
      "\nI have a pen. I have a Pineapple. Pineapple pan.Apple pen, Pineapple Pen, Pineapple Apple Pen PPAP PPAP PPAP\n1.649155616760254\nI have a pen. I have an apple. Apple pen. I have a pen. I have an apple. Apple pen. I have a pen. I have an apple. Apple pen. I have a pen. I have an apple. Apple pen. I have a pen. I have an apple. Apple pen. I have a pen. I have an apple. Apple pen. I have a pen. I have an apple. Apple pen. I have a pen. I have an apple. Apple pen. I have a pen. I have an apple. Apple pen. I have a pen. I have an apple. Apple pen. I have a pen. I have an apple. Apple pen. I have a pen. I have a Pineapple. Pineapple pan.Apple pen, Pineapple Pen, Pineapple Apple Pen PPAP PPAP PPAP"
     ]
    },
    {
     "name": "stdout",
     "output_type": "stream",
     "text": [
      "\n1.6029291152954102\nI have a pen. I have a Pineapple. Pineapple pan.Apple pen, Pineapple Pen, Pineapple Apple Pen PPAP PPAP PPAP\n1.575169563293457"
     ]
    },
    {
     "name": "stdout",
     "output_type": "stream",
     "text": [
      "\nI have a pen. I have an apple. Apple pen. I have a pen. I have an apple. Apple pen. I have a pen. I have a Pineapple. Pineapple pan.Apple pen, Pineapple Pen, Pineapple Apple Pen PPAP PPAP PPAP\n1.5561296939849854\nI have a pen. I have an apple. Apple pen. I have a pen. I have an apple. Apple pen. I have a pen. I have a Pineapple. Pine pen. I have a pen. I have a Pineapple. Pineapple pan.Apple pen, Pineapple Pen, Pineapple Apple Pen PPAP PPAP PPAP\n1.5432233810424805"
     ]
    },
    {
     "name": "stdout",
     "output_type": "stream",
     "text": [
      "\nI have a pen. I have an apple. Apple pen. I have a pen. I have a Pineapple. Pineapple pan.Apple pen, Pineapple Pen, Pineapple Apple Pen PPAP PPAP PPAP\n1.5331577062606812\nI have a pen. I have an apple. Apple pen. I have a pen. I have a Pineapple. Pineapple pan.Apple pen, Pineapple Pen, Pineapple Apple Pen PPAP PPAP PPAP PPAP PPAP"
     ]
    },
    {
     "name": "stdout",
     "output_type": "stream",
     "text": [
      "\n1.526119351387024\nI have a pen. I have an apple. Apple pen. I have a pen. I have a Pineapple. Pineapple pan.Apple pen, Pineapple Pen, Pineapple Apple Pen PPAP PPAP PPAP\n1.5206149816513062"
     ]
    },
    {
     "name": "stdout",
     "output_type": "stream",
     "text": [
      "\nI have a pen. I have an apple. Apple pen. I have a pen. I have a Pineapple. Pineapple pan.Apple pen, Pineapple Pen, Pineapple Apple Pen PPAP PPAP PPAP\n1.5172959566116333\nI have a pen. I have a Pineapple. Pineapple pan.Apple pen, Pineapple Pen, Pineapple Apple Pen PPAP PPAP PPAP\n1.5163594484329224"
     ]
    },
    {
     "name": "stdout",
     "output_type": "stream",
     "text": [
      "\nI have a pen. I have an apple. Apple pen. I have a pen. I have an apple. Apple pen. I have a pen. I have a Pineapple. Pineapple pan.Apple pen, Pineapple Pen, Pineapple Apple Pen PPAP PPAP PPAP\n1.5192756652832031\nI have a pen. I have an apple. Apple pen. I have a pen. I have a Pineapple. Pineapple pan.Apple pen, Pineapple Pen, Pineapple Apple Pen PPAP PPAP PPAP"
     ]
    },
    {
     "name": "stdout",
     "output_type": "stream",
     "text": [
      "\n1.549663782119751\nI have a pen. I have an apple. Apple pen. I have a pen. I have a Pineapple. Pineapple pan.Apple pen, Pineapple Pen, Pineapple Apple Pen PPAP PPAP PPAP"
     ]
    },
    {
     "name": "stdout",
     "output_type": "stream",
     "text": [
      "\n5.425973892211914\nI have a pen. I have a Pineapple Apple Pen PPAP PPAP PPAP\n10.695525169372559"
     ]
    },
    {
     "name": "stdout",
     "output_type": "stream",
     "text": [
      "\nI have a pen. I have an apple. Apple pen. I have a pen. I have a Pineapple. Pineapple pan.Apple pen, Pineapple Pen, Pineapple Pen, Pineapple Pen, Pineapple Apple Pen PPAP PPAP PPAP\n1.468654751777649\nI have a pen. I have a Pineapple. Pineapple pan.Apple pen, Pineapple Pen, Pineapple Apple Pen PPAP PPAP PPAP\n1.2837448120117188"
     ]
    },
    {
     "name": "stdout",
     "output_type": "stream",
     "text": [
      "\nI have a pen. I have a pen. I have a pen. I have a pen. I have a pen. I have a pen. I have a pen. I have a pen. I have a pen. I have a pen. I have a pen. I have a pen. I have a pen. I have a pen. I have a pen. I have a pen. I have a pen. I have a pen. I have a pen. I have a pen. I have a pen. I have a pen. I have a pen. I have a pen. I have a pen. I have a pen. I have a pen. I have a pen. I have a pen. I have a pen. I have a pen. I have a pen. I have a pen. I have a pen. I have a pen. I have a pen. I have a pen. I have a pen. I have a pen. I have a pen. I have a pen. I have a pen. I have a pen. I have a pen. I have a pen. I have a pen. I have a pen. I have a pen. I have a pen. I have a pen. I have a pen. I have a pen. I have a pen. I have a pen. I have a pen. I have a pen. I have a pen. I have a pen. I have a pen. I have a pen. I have a pen. I have a pen. I have a pen. I have a pen. I have a pen. I have a pen. I have a pen. I have a pen. I have a pen. I have a pen. I have a pen. I have a pen. I have a pen. I have a pen. I have a pen. I have a pen. I have a pen. I have a pen. I have a pen. I have a pen. I have a pen. I have a pen. I have a pen. I have a pen. I have a pen. I have a pen. I have a pen. I have a pen. I have a pen. I have a pen. I have a pen. I have a pen. I have a pen. I have a pen. I have a pen. I have a pen. I have a pen. I have a pen. I have a pen. I have a pen. I have a pen. I have a pen. I have a pen. I have a pen Apple Pen PPAP PPAP PPAP\n"
     ]
    }
   ],
   "source": [
    "sentence = \"I have a pen. I have an apple. Apple pen. \" \\\n",
    "           \"I have a pen. I have a Pineapple. Pineapple pan.\" \\\n",
    "           \"Apple pen, Pineapple Pen, Pineapple Apple Pen \" \\\n",
    "           \"PPAP PPAP PPAP\"\n",
    "train(lstm, sentence)"
   ]
  },
  {
   "cell_type": "code",
   "execution_count": null,
   "metadata": {},
   "outputs": [],
   "source": [
    ""
   ]
  }
 ],
 "metadata": {
  "kernelspec": {
   "display_name": "Python 3",
   "language": "python",
   "name": "python3"
  },
  "language_info": {
   "codemirror_mode": {
    "name": "ipython",
    "version": 3.0
   },
   "file_extension": ".py",
   "mimetype": "text/x-python",
   "name": "python",
   "nbconvert_exporter": "python",
   "pygments_lexer": "ipython3",
   "version": "3.4.3"
  }
 },
 "nbformat": 4,
 "nbformat_minor": 0
}