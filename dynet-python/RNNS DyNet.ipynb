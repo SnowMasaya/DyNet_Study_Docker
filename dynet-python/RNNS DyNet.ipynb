{
 "cells": [
  {
   "cell_type": "markdown",
   "metadata": {},
   "source": [
    "# DyNet RNNs チュートリアル\n",
    "\n",
    "チュートリアルを意訳しています。\n",
    "\n",
    "参考\n",
    "* https://github.com/clab/dynet/blob/master/examples/python/tutorials/RNNs.ipynb\n",
    "* https://media.readthedocs.org/pdf/dynet/latest/dynet.pdf"
   ]
  },
  {
   "cell_type": "code",
   "execution_count": 1,
   "metadata": {
    "collapsed": true
   },
   "outputs": [],
   "source": [
    "from dynet import *"
   ]
  },
  {
   "cell_type": "markdown",
   "metadata": {},
   "source": [
    "# LSTM/RNN 全体像\n",
    "\n",
    "１層のRNNは隠れ層を次のように分けている $h_1,...,h_k$, $h_i$ は時間ごとの指標を表している\n",
    "それぞれの層$h_i$は入力$x_i$と出力$r_i$に加えて過去の入力$r_{i-1}$も与える\n",
    "複数層の場合は連続ではなく網目状になる。例えば\n",
    "\n",
    "* $h_1^3,...,h_k^3$\n",
    "* $h_1^2,...,h_k^2$\n",
    "* $h_1^1,...h_k^1$\n",
    "\n",
    "上記の場合は\n",
    "\n",
    "隠れ層$h_i^1$の入力は$x_i$と$r_{i-1}^1$\n",
    "\n",
    "隠れ層$h_i^2$の入力は$r_i^1$と$r_{i-1}^2$　など"
   ]
  },
  {
   "cell_type": "markdown",
   "metadata": {},
   "source": [
    "# LSTM インターフェース"
   ]
  },
  {
   "cell_type": "markdown",
   "metadata": {},
   "source": [
    "RNN / LSTM / GRU は同様のインターフェースになる。\n",
    "\"builder\"が連続列のためのパラメータを作成する"
   ]
  },
  {
   "cell_type": "code",
   "execution_count": 2,
   "metadata": {
    "collapsed": false
   },
   "outputs": [],
   "source": [
    "model = Model()\n",
    "NUM_LAYERS = 2\n",
    "INPUT_DIM = 50\n",
    "HIDDEN_DIM = 10\n",
    "builder = LSTMBuilder(NUM_LAYERS, INPUT_DIM, HIDDEN_DIM, model)"
   ]
  },
  {
   "cell_type": "markdown",
   "metadata": {},
   "source": [
    "\"Builder\"でRNNの内部パラメータをモデルに加えることでパラメータを意識しなくて良くなるが最適化の際は同時に行ってくれる！！"
   ]
  },
  {
   "cell_type": "code",
   "execution_count": 3,
   "metadata": {
    "collapsed": false
   },
   "outputs": [
    {
     "data": {
      "text/plain": [
       "<_dynet.RNNState at 0x7f2ce0a9bae8>"
      ]
     },
     "execution_count": 3,
     "metadata": {},
     "output_type": "execute_result"
    }
   ],
   "source": [
    "s0 = builder.initial_state()\n",
    "s0"
   ]
  },
  {
   "cell_type": "code",
   "execution_count": 4,
   "metadata": {
    "collapsed": false
   },
   "outputs": [
    {
     "name": "stdout",
     "output_type": "stream",
     "text": [
      "expression 22/0\nexpression 23/0\n"
     ]
    }
   ],
   "source": [
    "print(vecInput(10))\n",
    "x1 = vecInput(INPUT_DIM)\n",
    "print(x1)"
   ]
  },
  {
   "cell_type": "code",
   "execution_count": 5,
   "metadata": {
    "collapsed": true
   },
   "outputs": [],
   "source": [
    "s1 = s0.add_input(x1)\n",
    "y1 = s1.output()"
   ]
  },
  {
   "cell_type": "code",
   "execution_count": 6,
   "metadata": {
    "collapsed": false,
    "scrolled": true
   },
   "outputs": [
    {
     "data": {
      "text/plain": [
       "(10,)"
      ]
     },
     "execution_count": 6,
     "metadata": {},
     "output_type": "execute_result"
    }
   ],
   "source": [
    "y1.npvalue().shape"
   ]
  },
  {
   "cell_type": "code",
   "execution_count": 7,
   "metadata": {
    "collapsed": false
   },
   "outputs": [
    {
     "data": {
      "text/plain": [
       "(expression 33/0, expression 43/0)"
      ]
     },
     "execution_count": 7,
     "metadata": {},
     "output_type": "execute_result"
    }
   ],
   "source": [
    "s1.h()"
   ]
  },
  {
   "cell_type": "code",
   "execution_count": 8,
   "metadata": {
    "collapsed": false
   },
   "outputs": [
    {
     "data": {
      "text/plain": [
       "expression 67/0"
      ]
     },
     "execution_count": 8,
     "metadata": {},
     "output_type": "execute_result"
    }
   ],
   "source": [
    "s2 = s1.add_input(x1)\n",
    "y2 = s2.output()\n",
    "y2"
   ]
  },
  {
   "cell_type": "markdown",
   "metadata": {},
   "source": [
    "１層の層で$y2$は隠れ層の状態と等しい。しかしながら最終層でもある。\n",
    "隠れ層の状態にアクセスしたい場合は下記のメソッドを使用する"
   ]
  },
  {
   "cell_type": "code",
   "execution_count": 9,
   "metadata": {
    "collapsed": false
   },
   "outputs": [
    {
     "data": {
      "text/plain": [
       "(expression 55/0, expression 67/0)"
      ]
     },
     "execution_count": 9,
     "metadata": {},
     "output_type": "execute_result"
    }
   ],
   "source": [
    "s2.h()"
   ]
  },
  {
   "cell_type": "markdown",
   "metadata": {},
   "source": [
    "LSTMの状態の出力を比較してみると"
   ]
  },
  {
   "cell_type": "code",
   "execution_count": 10,
   "metadata": {
    "collapsed": false
   },
   "outputs": [
    {
     "name": "stdout",
     "output_type": "stream",
     "text": [
      "all layers: (expression 33/0, expression 43/0)\n"
     ]
    }
   ],
   "source": [
    "print(\"all layers:\", s1.h())"
   ]
  },
  {
   "cell_type": "code",
   "execution_count": 11,
   "metadata": {
    "collapsed": false
   },
   "outputs": [
    {
     "name": "stdout",
     "output_type": "stream",
     "text": [
      "(expression 29/0, expression 39/0, expression 33/0, expression 43/0)\n"
     ]
    }
   ],
   "source": [
    "print( s1.s())"
   ]
  },
  {
   "cell_type": "markdown",
   "metadata": {},
   "source": [
    "同様のインターフェースでシンプルなRNNも作成可能"
   ]
  },
  {
   "cell_type": "code",
   "execution_count": 12,
   "metadata": {
    "collapsed": false
   },
   "outputs": [
    {
     "name": "stdout",
     "output_type": "stream",
     "text": [
      "(expression 75/0, expression 77/0)\n"
     ]
    }
   ],
   "source": [
    "rnnbuilder = SimpleRNNBuilder(NUM_LAYERS, INPUT_DIM, HIDDEN_DIM, model)\n",
    "\n",
    "rs0 = rnnbuilder.initial_state()\n",
    "\n",
    "rs1 = rs0.add_input(x1)\n",
    "ry1 = rs1.output()\n",
    "print( rs1.s())"
   ]
  },
  {
   "cell_type": "markdown",
   "metadata": {},
   "source": [
    "* 出力は\"output\"メソッドで行う\n",
    "* 隠れ層の値は\"h()\"メソッドで行う\n",
    "* 状態は\"s()\"で確認する\n",
    "\n",
    "LSTMのみ出力が４つになっている。これは入力層、忘却層、過去の入力層、出力層が存在するためである。"
   ]
  },
  {
   "cell_type": "code",
   "execution_count": 13,
   "metadata": {
    "collapsed": false
   },
   "outputs": [
    {
     "name": "stdout",
     "output_type": "stream",
     "text": [
      "RNN h: (expression 75/0, expression 77/0)\nRNN s: (expression 75/0, expression 77/0)\nLSTM h: (expression 33/0, expression 43/0)\nLSTM s: (expression 29/0, expression 39/0, expression 33/0, expression 43/0)\n"
     ]
    }
   ],
   "source": [
    "rnn_h = rs1.h()\n",
    "rnn_s = rs1.s()\n",
    "print(\"RNN h:\", rnn_h)\n",
    "print(\"RNN s:\", rnn_s)\n",
    "\n",
    "lstm_h = s1.h()\n",
    "lstm_s = s1.s()\n",
    "print(\"LSTM h:\", lstm_h)\n",
    "print(\"LSTM s:\", lstm_s)"
   ]
  },
  {
   "cell_type": "markdown",
   "metadata": {},
   "source": [
    "# RNNとLSTMインターフェースのオプション\n",
    "\n",
    "Stack LSTM: 過去の状態を覚えておけるのでそこに新たに追加してグラフの作成が行える。\n",
    "\n"
   ]
  },
  {
   "cell_type": "code",
   "execution_count": 14,
   "metadata": {
    "collapsed": true
   },
   "outputs": [],
   "source": [
    "s2 = s1.add_input(x1)\n",
    "s3 = s2.add_input(x1)\n",
    "s4 = s3.add_input(x1)\n",
    "\n",
    "# s3に新しい入力を加える\n",
    "s5 = s3.add_input(x1)\n",
    "\n",
    "#下記の２つの異なる列ができている\n",
    "# s0, s1, s2, s3, s4\n",
    "# s0, s1, s2, s3, s5\n",
    "\n",
    "assert(s5.prev() == s3)\n",
    "assert(s4.prev() == s3)\n",
    "\n",
    "s6 = s3.prev().add_input(x1)\n",
    "# s0, s1, s2, s6"
   ]
  },
  {
   "cell_type": "code",
   "execution_count": 15,
   "metadata": {
    "collapsed": false
   },
   "outputs": [
    {
     "data": {
      "text/plain": [
       "(expression 185/0, expression 197/0)"
      ]
     },
     "execution_count": 15,
     "metadata": {},
     "output_type": "execute_result"
    }
   ],
   "source": [
    "s6.h()"
   ]
  },
  {
   "cell_type": "markdown",
   "metadata": {},
   "source": [
    "4つの列が出力される"
   ]
  },
  {
   "cell_type": "code",
   "execution_count": 16,
   "metadata": {
    "collapsed": false
   },
   "outputs": [
    {
     "data": {
      "text/plain": [
       "(expression 181/0, expression 193/0, expression 185/0, expression 197/0)"
      ]
     },
     "execution_count": 16,
     "metadata": {},
     "output_type": "execute_result"
    }
   ],
   "source": [
    "s6.s()"
   ]
  },
  {
   "cell_type": "markdown",
   "metadata": {},
   "source": [
    "# メモリの効果的な変換\n",
    "\n",
    "入力列をlist化して今までのことを一気にやってくれる手法があります。"
   ]
  },
  {
   "cell_type": "code",
   "execution_count": 17,
   "metadata": {
    "collapsed": false
   },
   "outputs": [
    {
     "name": "stdout",
     "output_type": "stream",
     "text": [
      "[expression 201/0, expression 205/0, expression 209/0]\n[(expression 199/0, expression 201/0), (expression 203/0, expression 205/0), (expression 207/0, expression 209/0)]\n"
     ]
    }
   ],
   "source": [
    "state = rnnbuilder.initial_state()\n",
    "xs = [x1, x1, x1]\n",
    "states = state.add_inputs(xs)\n",
    "outputs = [s.output() for s in states]\n",
    "hs = [s.h() for s in states]\n",
    "print(outputs)\n",
    "print(hs)"
   ]
  },
  {
   "cell_type": "markdown",
   "metadata": {},
   "source": [
    "transduceを使用すればもっとメモリを効率よく使用でき、少ない行数でかけます。"
   ]
  },
  {
   "cell_type": "code",
   "execution_count": 18,
   "metadata": {
    "collapsed": false
   },
   "outputs": [
    {
     "name": "stdout",
     "output_type": "stream",
     "text": [
      "[expression 213/0, expression 217/0, expression 221/0]\n"
     ]
    }
   ],
   "source": [
    "state = rnnbuilder.initial_state()\n",
    "xs = [x1, x1, x1]\n",
    "outputs = state.transduce(xs)\n",
    "print(outputs)"
   ]
  },
  {
   "cell_type": "markdown",
   "metadata": {},
   "source": [
    "# 言葉レベルのLSTM\n",
    "\n",
    "ここから本格的な応用に入ります。言葉レベルのRNNですprint(outputs)\n",
    "\n",
    "* モデルのパラメータの初期的設定\n",
    "* 言葉の設定。\n",
    "* 明示的に終了と始まり符号を表す<EOS>を追加\n",
    "* コンピューターで扱うため、数字と文字の変換用の辞書を用意"
   ]
  },
  {
   "cell_type": "code",
   "execution_count": 19,
   "metadata": {
    "collapsed": true
   },
   "outputs": [],
   "source": [
    "import random\n",
    "from collections import defaultdict\n",
    "from itertools import count\n",
    "import sys\n",
    "\n",
    "LAYERS = 2\n",
    "INPUT_DIM = 50 \n",
    "HIDDEN_DIM = 50  \n",
    "\n",
    "characters = list(\"ABCDEFGHIJKLMNOPQRSTUVWXYZabcdefghijklmnopqrstuvwxyz ,.\")\n",
    "characters.append(\"<EOS>\")\n",
    "\n",
    "int2char = list(characters)\n",
    "char2int = {c:i for i,c in enumerate(characters)}\n",
    "\n",
    "VOCAB_SIZE = len(characters)"
   ]
  },
  {
   "cell_type": "markdown",
   "metadata": {},
   "source": [
    "# モデルの設定\n",
    "\n",
    "* modelのパラメータ設定\n",
    "* 61ページにlookupパラメータの意味があります。Word Embeddingのためです。\n",
    "http://phontron.com/slides/emnlp2016-dynet-tutorial-part1.pdf\n",
    "* params[\"lookup\"]は入力用\n",
    "* params[\"R\"]は出力用\n",
    "* params[\"bias\"]はバイアス用"
   ]
  },
  {
   "cell_type": "code",
   "execution_count": 20,
   "metadata": {
    "collapsed": true
   },
   "outputs": [],
   "source": [
    "model = Model()\n",
    "\n",
    "\n",
    "srnn = SimpleRNNBuilder(LAYERS, INPUT_DIM, HIDDEN_DIM, model)\n",
    "lstm = LSTMBuilder(LAYERS, INPUT_DIM, HIDDEN_DIM, model)\n",
    "\n",
    "params = {}\n",
    "params[\"lookup\"] = model.add_lookup_parameters((VOCAB_SIZE, INPUT_DIM))\n",
    "params[\"R\"] = model.add_parameters((VOCAB_SIZE, HIDDEN_DIM))\n",
    "params[\"bias\"] = model.add_parameters((VOCAB_SIZE))"
   ]
  },
  {
   "cell_type": "markdown",
   "metadata": {},
   "source": [
    "* 一つの文章に対してのメソッド：文章ごと長さが異なり処理を分けたいため定義\n",
    "* pick関数は資料の38ページ参照\n",
    "https://media.readthedocs.org/pdf/dynet/latest/dynet.pdf"
   ]
  },
  {
   "cell_type": "code",
   "execution_count": 21,
   "metadata": {
    "collapsed": true
   },
   "outputs": [],
   "source": [
    "# return compute loss of RNN for one sentence\n",
    "def do_one_sentence(rnn, sentence):\n",
    "    # setup the sentence\n",
    "    renew_cg()\n",
    "    s0 = rnn.initial_state()\n",
    "    \n",
    "    \n",
    "    R = parameter(params[\"R\"])\n",
    "    bias = parameter(params[\"bias\"])\n",
    "    lookup = params[\"lookup\"]\n",
    "    sentence = [\"<EOS>\"] + list(sentence) + [\"<EOS>\"]\n",
    "    sentence = [char2int[c] for c in sentence]\n",
    "    s = s0\n",
    "    loss = []\n",
    "    for char,next_char in zip(sentence,sentence[1:]):\n",
    "        s = s.add_input(lookup[char])\n",
    "        probs = softmax(R*s.output() + bias)\n",
    "        loss.append( -log(pick(probs,next_char)) )\n",
    "    loss = esum(loss)\n",
    "    return loss"
   ]
  },
  {
   "cell_type": "markdown",
   "metadata": {},
   "source": [
    "モデルからの文字列生成"
   ]
  },
  {
   "cell_type": "code",
   "execution_count": 22,
   "metadata": {
    "collapsed": false
   },
   "outputs": [],
   "source": [
    "# generate from model:\n",
    "def generate(rnn):\n",
    "    def sample(probs):\n",
    "        rnd = random.random()\n",
    "        for i,p in enumerate(probs):\n",
    "            rnd -= p\n",
    "            if rnd <= 0: break\n",
    "        return i\n",
    "    \n",
    "    # setup the sentence\n",
    "    renew_cg()\n",
    "    s0 = rnn.initial_state()\n",
    "    \n",
    "    R = parameter(params[\"R\"])\n",
    "    bias = parameter(params[\"bias\"])\n",
    "    lookup = params[\"lookup\"]\n",
    "    \n",
    "    s = s0.add_input(lookup[char2int[\"<EOS>\"]])\n",
    "    out=[]\n",
    "    while True:\n",
    "        probs = softmax(R*s.output() + bias)\n",
    "        probs = probs.vec_value()\n",
    "        next_char = sample(probs)\n",
    "        out.append(int2char[next_char])\n",
    "        if out[-1] == \"<EOS>\": break\n",
    "        s = s.add_input(lookup[next_char])\n",
    "    return \"\".join(out[:-1]) # strip the <EOS>"
   ]
  },
  {
   "cell_type": "markdown",
   "metadata": {},
   "source": [
    "学習のための関数"
   ]
  },
  {
   "cell_type": "code",
   "execution_count": 23,
   "metadata": {
    "collapsed": true
   },
   "outputs": [],
   "source": [
    "def train(rnn, sentence):\n",
    "    trainer = SimpleSGDTrainer(model)\n",
    "    for i in range(200):\n",
    "        loss = do_one_sentence(rnn, sentence)\n",
    "        loss_value = loss.value()\n",
    "        loss.backward()\n",
    "        trainer.update()\n",
    "        if i % 5 == 0:\n",
    "            print(loss_value)\n",
    "            print(generate(rnn))"
   ]
  },
  {
   "cell_type": "markdown",
   "metadata": {},
   "source": [
    "#実行例 RNN"
   ]
  },
  {
   "cell_type": "code",
   "execution_count": 24,
   "metadata": {
    "collapsed": false
   },
   "outputs": [
    {
     "name": "stdout",
     "output_type": "stream",
     "text": [
      "176.98768615722656\n.zmwVrL Pgmgez\n118.57496643066406\nKWXCoVasCm\n71.47085571289062\nGZ l.,ee orew.UvtcsoxdoSBoPbcHi quvcR Vzn UWfkGxoo, tec l or  u NT perYahn dWJ erawTziNupcr Kqompruemko ghfowE KMoSoaeox ,Tokep\n42.194435119628906\nn xOod dqoh ddoJJr mfeI ouer ZYe d,oW m VzG Rkm l JwW qXo rp e brsnk ohex txe  aet jlg dZogzoXtr tvfyQtfC uod jSqcdPYjCuaseddozTG mrkrY  hoW tdmsxwdozdlueP eRhp.  CzO d uUer GrgPxxuyg odloXeG d.n trSacVC oxfn qIuYvaAjcm w  gxi  pdixjurQu iz uwoodjpdoyJK xgoHdi l,Zjw uurx qQar ovM TZnH   WZe  rutUt pavS beo\n19.207962036132812\nG Puc\n6.561734199523926\nJ quick brown fox jumped ovew qSe lazyYdoc\n2.2133874893188477\na quick brown fox jumped over the laze dog\n0.8910670876502991\na quick brown fox jumped over the paay dog\n0.6027364730834961\na quiik brown fox jumped over the lazy dog\n0.4551372230052948\na quick brown fox jumped over ahe lazy dog\n0.3652839660644531"
     ]
    },
    {
     "name": "stdout",
     "output_type": "stream",
     "text": [
      "\na quick brown fox jumped over the lazy dog\n0.3048505485057831\na quick brown fox jumped over the lazy dog\n0.2614337205886841\na quick brown fox jumped over the lazy dog\n0.22875484824180603\na quick brown fox jumped over the lazy dog\n0.2032642662525177\na quick brown fox jumped over the lazy dog\n0.18284228444099426\na quick brown fox jumped over the lazy dqg\n0.16611282527446747\na quick brown fox jumped over the lazy dog\n0.15216544270515442\na quick brown fox jumped over the lazy dog\n0.14035697281360626\na quick brown fox jumped over the lazy dog\n0.13023392856121063\na quick brown fox jumped over the lazy dog\n0.12145433574914932\na quick brown fox jumped over the lazy dog\n0.1137743815779686"
     ]
    },
    {
     "name": "stdout",
     "output_type": "stream",
     "text": [
      "\na quick brown fox jumped over the lazy dog\n0.10699939727783203\na quick brown fox jumped over the lazy dog\n0.10097689926624298\na quick brown fox jumped over the lazy dog\n0.09559248387813568\na quick brown fox jumped over fhe lazy dog\n0.09074804931879044\na quick brown fox jumped over the lazy dog\n0.08636464923620224\na quick brown fox jumped over the lazy dog\n0.0823831781744957\na quick brown fox jumped over the lazy dog\n0.0787506252527237\na quick brown fox jumped over the lazy dog\n0.07541273534297943\na quick brown fox jumped over the lazy dog\n0.07235343754291534\na quick brown fox jumped ouer the lazy dog\n0.06952950358390808\na quick brown fox jumped over the lazy dog\n0.06690983474254608"
     ]
    },
    {
     "name": "stdout",
     "output_type": "stream",
     "text": [
      "\na quick brown fox jumped over the lazy dog\n0.06448080390691757\na quick brown fox jumped over the lazy dog\n0.06222354620695114\na quick brown fox jumped over the lazy dog\n0.060115743428468704\na quick brown fox jumped over the lazy dog\n0.05814079940319061\na quick brown fox jumped over the lazy dog\n0.05629827454686165\na quick brown fox jumped over the lazy dog\n0.054562509059906006\na quick brown fox jumped over the lazy dog\n0.052930597215890884\na quick brown fox jumped over the lazy dog\n"
     ]
    }
   ],
   "source": [
    "sentence = \"a quick brown fox jumped over the lazy dog\"\n",
    "train(srnn, sentence)"
   ]
  },
  {
   "cell_type": "markdown",
   "metadata": {},
   "source": [
    "#実行例 LSTM"
   ]
  },
  {
   "cell_type": "code",
   "execution_count": 25,
   "metadata": {
    "collapsed": false
   },
   "outputs": [
    {
     "name": "stdout",
     "output_type": "stream",
     "text": [
      "163.1386260986328\n.nfWanMWoocnpxkbPCZ igPmOrnBWBHz bFR xe.DLzXG mqcYIdf eieMWH xoLeeadOhXCePUKtxH\n141.42947387695312\npf rL   bqP koe r ,jejes  ogreshOXf oaNo  z rjohx   e,bo  oTzgd  v \n134.0388946533203\nEPohmzejds drhfoUJltuuocoh Colugox oukokywo \n128.60665893554688\nn \n116.18101501464844\nje\n101.5512466430664"
     ]
    },
    {
     "name": "stdout",
     "output_type": "stream",
     "text": [
      "\nua dxuBWddaie Ztme  Hoj\n86.95086669921875\nIrqeolrif oaw jdoonCo dooxw tkGddc\n75.145263671875\nN dSLrelO ubmap egumeebdoo\n63.167720794677734\nBAr oez qhe lyo lxpdlyody ouox mhh lhn fWfhlttf lap tie tua w Gpe fhp rrufy  obe ja\n51.71269226074219"
     ]
    },
    {
     "name": "stdout",
     "output_type": "stream",
     "text": [
      "\na iZr roxx ozrd ogg y foze ox\n43.78972244262695\nz quiic obrwn lgyp dovand dogrnjthe olpnedqvre dhopa ffv\n32.906009674072266\np lGc doo\n26.622600555419922\nc  rir drox jumpp.F go\n19.275283813476562\nn doo\n13.499739646911621"
     ]
    },
    {
     "name": "stdout",
     "output_type": "stream",
     "text": [
      "\na quikr eatn foz jumpped ovea lmzy dogz junped over the lazzy bogznd oxqn hrlwa ngo nd ov\n9.051881790161133\n\n6.094839572906494\nU ouick brownndoxvn tox\n3.9135212898254395\nz quukk brown fox jumped over the lazy dog\n2.145503044128418\na quick brown fox jumped overt th fox jumped over the lazy dog\n1.5657320022583008"
     ]
    },
    {
     "name": "stdout",
     "output_type": "stream",
     "text": [
      "\na quick brown fox jumped oven the lazy dog\n1.2290349006652832\na quik brown fox jumped over the lazy dog\n1.0082154273986816\na quick brown fox jumped over the lazy dog\n0.8528245091438293\na quick brown fog jumped over the lazy dog\n0.7378641366958618\na quick brown fox jumped over the lazy dog\n0.6495485901832581"
     ]
    },
    {
     "name": "stdout",
     "output_type": "stream",
     "text": [
      "\na quick brown fox jumped over the lazy dog\n0.5796661972999573\na quick brown fox jumped over the lazy dog\n0.5230434536933899\na quick brown fox jumped over the lazy dog\n0.47626322507858276\na quick brown fox jumped over the lazy dog\n0.4369813799858093\na quick brown fox jumped over the lazy dog"
     ]
    },
    {
     "name": "stdout",
     "output_type": "stream",
     "text": [
      "\n0.4035414755344391\na quick brown fox jumped over the lazy dog\n0.3747418522834778\na quick brown fox jumped over the lazy dog\n0.34968844056129456\na quick brown fox jumped over the lamy dog\n0.3276979327201843\na quick brown fox jumped over the lazy dog\n0.3082388937473297"
     ]
    },
    {
     "name": "stdout",
     "output_type": "stream",
     "text": [
      "\na quick browr the lazy dog\n0.2909145951271057\na quick browz fox jumped over the lazy dog\n0.275386780500412\na quick brown fox jumped over the lazy dog\n0.26138970255851746\na quick brown fox juzped over the lozy dog\n0.24871425330638885\na quick brown fox jumped over the lazy dog\n0.23718073964118958"
     ]
    },
    {
     "name": "stdout",
     "output_type": "stream",
     "text": [
      "\na quick brown fox jumped over the lazy dog\n0.2266462743282318\na quick grown fox jumped over the lazy dog\n"
     ]
    }
   ],
   "source": [
    "sentence = \"a quick brown fox jumped over the lazy dog\"\n",
    "train(lstm, sentence)"
   ]
  },
  {
   "cell_type": "code",
   "execution_count": 36,
   "metadata": {
    "collapsed": true
   },
   "outputs": [
    {
     "name": "stdout",
     "output_type": "stream",
     "text": [
      "581.0768432617188\na quick brown fox jumped over mhe lazy dog\n80.7076187133789\na pen b\n29.160541534423828"
     ]
    },
    {
     "name": "stdout",
     "output_type": "stream",
     "text": [
      "\na q qan.f bpee. Pineapple PenP PxPe\n20.348590850830078\na Pineapple pan\n14.379410743713379"
     ]
    },
    {
     "name": "stdout",
     "output_type": "stream",
     "text": [
      "\nI have a pen. I have a pen. I have a pen. I have a pen. I have an apple. Apple pen. I have a pen. I have a pen. I have a pen. I have a pen. I have a Pineapple. Pineapple pan.j Pineapple pan.Apple pen. I have a pen. I have a pen. I have a pen. I have an apple. Apple pen. I have a pen. I have a pen. I have an apple. Apple a Pineapple. Pineapple pan fPAP\n11.341286659240723\nI have a pen. I have a pen. I have a PineapplemAP\n12.960704803466797"
     ]
    },
    {
     "name": "stdout",
     "output_type": "stream",
     "text": [
      "\nI have a\n11.388411521911621\nI have a pen. I have a pen. I Lave a Pineapple. Paneapple pan.Apple pen, Pineapple Pen, Pineapple Pen, Pineapple pan.Apple pen, Pineapple Apple Pen PPAP PPAP PPAP PPAP PPAA PPAP PPAP PPAP PPAP PPAP PPAP PPAP PPAP\n11.969993591308594"
     ]
    },
    {
     "name": "stdout",
     "output_type": "stream",
     "text": [
      "\nI have a PiAP\n10.483719825744629\nI have an apple. Apple pen. I have an apple. Apple pen. I have a pen. I have a Peneapple. Pineapple pan.Apple pen, Pineapple pan.Apple.p PPAP\n18.223918914794922"
     ]
    },
    {
     "name": "stdout",
     "output_type": "stream",
     "text": [
      "\nI have a pen. I have an apple. Apple pen. I have a Pineapple, Pinean PApple. Apple pen, Pineapple AppPe Pen PPAP PPAP Pineapple. Pineapple pan.Apple pen, Pineapple Pen, Pineapple. Pineapple pan.Apple pen, Pineapple. Pineapple Pen, Pineapple. Pineapple Apple Pen PPAP PPAP PPAP\n8.437355041503906\nI have a pen. I have a pen. I have a Pineapple. Pineapple pan,Apple pan.Apple pen, Pineapple Pen, Pineapple Apple Pen PPAP PPAP PPAP\n7.929374694824219"
     ]
    },
    {
     "name": "stdout",
     "output_type": "stream",
     "text": [
      "\nI have a pen. I have a pen. I have a Pineapple. Pineapple pan.Apple pen, Pineapple Apple Pen PPAP PPAP PPApple. I have a Pineapple. Pineapple pan.Apple pen, Pineapple Apple Pen PPAP PPAP PPAP\n7.426538467407227\nI have a pen. I have an apple. pan. Pineapple. Pineapple pan.Apple pen, Pineapple Pen, Pineapple Pen, Pineapple Pen, Pineapple Apple Pen Pineapple pan.Apple pen, Pineapple Pen, Pineapple Pen, Pineapple Pen, Pineapple Pen, Pineapple Apple Pen PPAP PPAP PPAP"
     ]
    },
    {
     "name": "stdout",
     "output_type": "stream",
     "text": [
      "\n6.224359512329102\nI have a pen. I have a Pineapple. Pineapple pan.Apple pen, Pineapple pan.Apple pen, Pineapple Apple Pen PPAP PPAP PPAP\n10.256949424743652"
     ]
    },
    {
     "name": "stdout",
     "output_type": "stream",
     "text": [
      "\nI have a pen. I have a pen. I have a pen. I have a Pineapple. Pineapple pan.Apple pen, Pineapple Pen, Pineapple Pen, Pineapple Apple Pen PPAP PPAP PPAP\n6.634299278259277\nI have a pen. I have a pen. I have a pen. I have a Pineapple. Pineapple Pen, Pineapple Pen, Pineapple Pen, Pineapple Apple Pen PPAP PPAP PPAP"
     ]
    },
    {
     "name": "stdout",
     "output_type": "stream",
     "text": [
      "\n7.466175079345703\nI have an apple. Apple pen. v have an apple. Apple pen. AI have an apple. Apple pen. I have a Pineapple. Pineapple pan.Apple pen, Pineapple Apple Pen PPAP PPAP PPAP\n7.441642761230469"
     ]
    },
    {
     "name": "stdout",
     "output_type": "stream",
     "text": [
      "\nI have a pen. I have an apple. Apple pen. I have an apple. Apple pen. I have a pen. I have a Pineapple. Pineapple pan.Apple pen, Pineapple Apple Pen PPAP PPAP PPAP\n9.235997200012207\nI have a pen. I have a pen. I have a pen. I have a pen. I have an apple. Apple pen. I have an apple. Apple pen. I have an apple. Apple pen. I have an apple. Apple pen. I have a pen. I have an apple. Apple pen. I have a pen. I have a Pineapple. Pineapple pan.Apple pan.Apple pen, Pineapple pan.Apple pan.Apple pen, Pineapple Apple Pen PPAP PPAP PPAP"
     ]
    },
    {
     "name": "stdout",
     "output_type": "stream",
     "text": [
      "\n3.6421146392822266\nI have a pen. I have an apple. Apple pen. I have a pen. I have an apple. Apple pen. I have a pen. I have an apple. Apple pen. I have a pen. I have an apple.e Pineapple pan.Apple pen, Pineapple pan.q Piie. Apple pen. I have a pen. I have a Pineapple. Pineapple pan,, PPAP PPAP PPAP"
     ]
    },
    {
     "name": "stdout",
     "output_type": "stream",
     "text": [
      "\n3.7775561809539795\nI have a Pineapple. Pineapple pan.Apple pen, Pineapple Pen, Pineapple Pen, Pineapple Apple Pen PPAP PPAP PPAPn PPAP\n4.494126319885254"
     ]
    },
    {
     "name": "stdout",
     "output_type": "stream",
     "text": [
      "\nI have a pen. I have an apple. Apple pen. I have a pen. I have a Pineapple. Pineapple pan.Apple pen, Pineapple Pen, Pineapple Apple Pen PPAP PPAP PPAP\n7.931119918823242\nI have a pen. I have a Pineapple Apple Pen PPAP PPAP PPAP\n2.3151206970214844"
     ]
    },
    {
     "name": "stdout",
     "output_type": "stream",
     "text": [
      "\nI have a pen. I have a pen. I have an apple. Apple pen. I have a pen. I have a Pineapple. Pineapple pan.Apple pen, Pineapple Apple Pen PPAP PPAP PPAP\n2.482482671737671\nI have a pen. I have an apple. Apple pen. I have a pen. I have an apple. Apple pen. I have a pen. I have a Pineapple. Pineapple Pen, Pineapple Apple Pen PPAP PPAP PUAP"
     ]
    },
    {
     "name": "stdout",
     "output_type": "stream",
     "text": [
      "\n2.1785755157470703\nI have a pen. I have a Pineapple. Pineapple pan.Apple pen, Pineapple Pen, Pineapple. Pineapple pan.Apple pen, Pineapple Pen, Pineapple Apple Pen PPAP PPAP PPAP\n3.8524208068847656"
     ]
    },
    {
     "name": "stdout",
     "output_type": "stream",
     "text": [
      "\nI have a pen. I have a Pineapple. Pineapple pan.Apple pen, Pineapple Pen, Pineapple Apple Pen, Pineapple Apple Pen, Pineapple Apple Pen, Pineapple Apple Pen, Pineapple Apple Pen, Pineapple Apple pan.Apple pen, Pineapple Paneapple Apple Pen, Pineapple Apple apple PPAP PPAP PPAPip\n1.8930540084838867"
     ]
    },
    {
     "name": "stdout",
     "output_type": "stream",
     "text": [
      "\nI have a pen. I have a Pineapple. Pineapple pan.Apple pen, Pineapple Pen, Pineapple Apple Pen PPAP PPAP PPAP\n2.28940486907959\nI have a pen. I have an apple. Apple pen. I have a pen. I have an apple. Apple pen. I have a pen. I have an apple. Apple pen. I have a pen. I have an apple. Apple pen. I have a pen. I have an apple. Apple pen. I have a pen. I have an apple. Apple pen. I have a pen. I have an apple. Apple pen. I have a pen. I have an apple. Apple pen. I have a pen. I have a Pineapple. Pineapple pan.Apple pen, Pineapple Pen, Pineapple Apple Pen PPAP PPAP PPAP"
     ]
    },
    {
     "name": "stdout",
     "output_type": "stream",
     "text": [
      "\n2.1136343479156494\nI have a pen. I have a Pineapple. Pineapple pan.Apple pen, Pineapple Pen, Pineapple Apple Pen PPAP PPAP PPAP\n2.0328311920166016"
     ]
    },
    {
     "name": "stdout",
     "output_type": "stream",
     "text": [
      "\nI have a pen. I have an apple. Apple pen. I have a pen. I have an apple. Apple pen. I have a pen. I have an apple. Apple pen. I have a pen. I have an apple. Apple pen. I have a pen. I have a Pineapple. Pineapple pan.Apple pen, Pineapple Pen, Pineapple Apple Pen PPAP PPAP PPAP\n1.9572439193725586"
     ]
    },
    {
     "name": "stdout",
     "output_type": "stream",
     "text": [
      "\nI have a pen. I have a Pineapple. Pineapple pan.Apple pen, Pineapple Pen, Pineapple Apple Pen PPAP PPAP PPAP\n1.9161453247070312"
     ]
    },
    {
     "name": "stdout",
     "output_type": "stream",
     "text": [
      "\nI have a pen. I have a Pineapple. Pineapple pan.Apple pen, Pineapple Pen, Pineapple Apple Pen PPAP PPAP PPAP\n1.869955062866211\nI have a pen. I have a Pineapple. Pineapple pan.Apple pen, Pineapple Pen, Pineapple Apple Pen PPAP PPAP PPAP\n1.8431320190429688"
     ]
    },
    {
     "name": "stdout",
     "output_type": "stream",
     "text": [
      "\nI have a pen. I have a Pineapple. Pineapple pan.Apple pen, Pineapple Pen, Pineapple Apple Pen PPAP PPAP PPAP\n1.8111820220947266\nI have a pen. I have a Pineapple. Pineapple pan.Apple pen, Pineapple Pen, Pineapple Apple Pen PPAP PPAP PPAP\n1.7916518449783325"
     ]
    },
    {
     "name": "stdout",
     "output_type": "stream",
     "text": [
      "\nI have a pen. I have a Pineapple. Pineapple pan.Apple pen, Pineapple Pen, Pineapple Apple Pen PPAP PPAP PPAP\n1.767293930053711"
     ]
    },
    {
     "name": "stdout",
     "output_type": "stream",
     "text": [
      "\nI have a pen. I have an apple. Apple pen. I have a pen. I have an apple. Apple pen. I have a pen. I have an apple. Apple pen. I have a pen. I have a Pineapple. Pineapple pan.Apple pen, Pineapple Pen, Pineapple Apple Pen PPAP PPAP PPAP\n1.751880407333374\nI have a pen. I have an apple. Apple pen. I have a pen. I have an apple. Apple pen. I have a pen. I have an apple. Apple pen. I have a pen. I have an apple. Apple pen. I have a pen. I have an apple. Apple pen. I have a pen. I have an apple. Apple pen. I have a pen. I have an apple. Apple pen. I have a pen. I have a Pineapple. Pineapple pan.Apple pen, Pineapple Pen, Pineapple Apple Pen PPAP PPAP PPAP"
     ]
    },
    {
     "name": "stdout",
     "output_type": "stream",
     "text": [
      "\n"
     ]
    }
   ],
   "source": [
    "sentence = \"I have a pen. I have an apple. Apple pen. \" \\\n",
    "           \"I have a pen. I have a Pineapple. Pineapple pan.\" \\\n",
    "           \"Apple pen, Pineapple Pen, Pineapple Apple Pen \" \\\n",
    "           \"PPAP PPAP PPAP\"\n",
    "train(lstm, sentence)"
   ]
  },
  {
   "cell_type": "code",
   "execution_count": 26,
   "metadata": {
    "collapsed": true
   },
   "outputs": [
    {
     "name": "stdout",
     "output_type": "stream",
     "text": [
      "1148.27490234375\na quick brown fox jumped over the lazy dog\n642.880615234375\na quick brown fe azp xod"
     ]
    },
    {
     "name": "stdout",
     "output_type": "stream",
     "text": [
      "\n475.9980163574219\na uumck cowpplpglapeoalk overpznkpco\n391.21875"
     ]
    },
    {
     "name": "stdout",
     "output_type": "stream",
     "text": [
      "\na dbog icrlPne le ape lne lnlnzp h, pppe Pg Pnl e . jncn n Pah aype aPnlpya e nera nae P PaPp olp Pox be Pnp l H tenpe l x gne ape la y c hnl ape azmb l\n333.8431701660156\na uuccaa gleenOne Peapllyelappegl PKrep.ppex fePwe\n311.44903564453125"
     ]
    },
    {
     "name": "stdout",
     "output_type": "stream",
     "text": [
      "\na dog\n259.00103759765625\na quick kognnpAlppP.vPip.pe.ppeAppk lAr hPPpe hP.plPe Pn apePPAppPlPpPk P.eppnAapk brPape vepl.pppPPe cenApPpeonnpA, phplie\n242.81155395507812"
     ]
    },
    {
     "name": "stdout",
     "output_type": "stream",
     "text": [
      "\na uurpla\n207.337890625\na quipk halpppe. PeAPeeappove PnperpAplen.. yn.enpe bePpeApped.penpePlp.le Ph.ppek epPpe apenle wpePpppeeApplen. Niieneer AapelpePppePpe . apee. pn.Gpoen. ppeAApovenppeepPpe.ve Penk PeApppe PerPe penpppe PMAPyeeA enle l pelpevpeaI mped .p"
     ]
    },
    {
     "name": "stdout",
     "output_type": "stream",
     "text": [
      "\n187.7457733154297\na d ge\n169.70553588867188"
     ]
    },
    {
     "name": "stdout",
     "output_type": "stream",
     "text": [
      "\na nhan Ppple Pnap. PPAppAplve Penk h nAapplel Pipe PnP,\n149.00889587402344\na  happle pen a peape Pen PiieAa Ana. pie . have a lPlave a. Piee. g veAI haenlenla PePve a n PivelP haAve Janle e haa\n131.34243774414062"
     ]
    },
    {
     "name": "stdout",
     "output_type": "stream",
     "text": [
      "\na iip Pb penppoP PiPPA\n110.2892074584961\na niana pienP unenv, Pen PII have a pena Ppple PaPn a hn.a pwenA w pan applelve a I happle. PnpelA Pineape Per wan a Penua juipep. Pineappleln I hanea Pienx Papnla la. h PnAA w PeP. Pineape , Penan PnvAao uiipe . wan a uhaAppleI han PPI PenApnle , fnn.. ha. nnaapnle men An a Phn. Pineapple onn a he.vnAa pen I haPple P\n95.898193359375"
     ]
    },
    {
     "name": "stdout",
     "output_type": "stream",
     "text": [
      "\na nuien. .npcpPe pen, PeAve , Aupen. ApplevPpp,e.\n83.0751953125\na mienvaAppe .ape aapple. P. PPA. Pen., PanAva ppePp\n75.40452575683594"
     ]
    },
    {
     "name": "stdout",
     "output_type": "stream",
     "text": [
      "\na n h.l pen. An I haPnlHApple PenPelpple I mhnva pen. PPAp. ovenwn a have a penaI AhPha ppeP. pena wn.apple. Pineapple g Pineapple pen. haP\n67.61408996582031\na A pave a pen. I Aapy apple pen I han apple pen I PP,. I have a pena pe . PiPeApple PaP\n59.21466064453125"
     ]
    },
    {
     "name": "stdout",
     "output_type": "stream",
     "text": [
      "\n\n56.183204650878906\na neapple penApple Pen. Apple Apple pen. Apple pen, PpAApple Pen. I have a Pineapppa. Apple pan.. I havex PAvaneAppleapple Pen. I have a pen. I have a I have a lappe pen. Apple pen, Apple pen, PPAP PPAP\n50.309974670410156"
     ]
    },
    {
     "name": "stdout",
     "output_type": "stream",
     "text": [
      "\na n appla PineappplePPk PPPP.\n45.34598159790039\na pe. I have a Pineapple penve I PieApple Pen. h heappple. Pineapple pen, PPeApple Pen Apple PeApple. PPAP pPe. Pineac P,Ave PPAP PPAApPle Apple Apple. PPAP PP.Apple. pAn.ea pel. I have a Pineapple. Apple pen. pen. I have aipe aneave a pen. I have a pen. I have a PneappleppeApple pan Apple. P,.. I have apple. Pineapple pena"
     ]
    },
    {
     "name": "stdout",
     "output_type": "stream",
     "text": [
      "\n41.068756103515625\nw n.apple pen. A Pin.apple penPnlpple Apple pen I have , hape I have a pen. I have a pen. I have a pen. Pineapple. PPAP PPAP PPP,\n37.0821647644043"
     ]
    },
    {
     "name": "stdout",
     "output_type": "stream",
     "text": [
      "\n in apple hen I have a pen. I IaneI have I have an apple. An.. Apple pen. I have a Pineapple Pen, Pineapple Pen, Pineapple PanAAAppe. Pineapple Pen, PPAP PPAP Ape t PmPAP PPIPPAP PPAP PPAP\n35.133460998535156\n ven. I have an apple. I have a Inaapple. Pineapple pen. I have . I have a pen, I have a Apple pen. h I have a neapple pen. Pineapple. Pin apple Pen I have a pen. I have a pen. I haApple. PPnAP PPA. I have a pen. I have a pen. I have a pen. Apple. apple. Apple Pen. I have an apple. I have a pen. I have an a ppeapp... I have a Pineapple. I have a pen. I have a pen I have apple. I have a pen. I have a pen, Ipen. I have an apple. I have a pen. I have a pen. I have a pen. I have a pen.. I have a pen. I have a pen. f Pineapple.. PPn.Apple AppleApple. Apple pen. I have a pen I hava an apple. I have . have a Pineapple. Apple pe an Apple pen. Pineapple pena pen. I have a PinaApple. PPAP PPe. Pineapple . Apple pen. I have an apple. Apple pen. I have an apple. Pineapple panAAppe Apple. Pineapple pen. I have anlapple. I haapple pen. Pineapple pen. I haapple. I have a pen. I have a pen. I have an. apple. I have a pen. I have a Pineapple. I have an apple. Pineappla. Pineapple , Pineapple pen. I have Apple Pen. I have a penapplelpple Pen I han I have a pen. I have an a pene a peapple penApple. Apple Pen Apple pe I have a pen. I have a pen. I have a pen I have a pen, I have an apple. Apple pen. I have an Apple penP, jPen. I hax Pineapple. I have a pen. I have a pen. I have . Pineapple. I have a Pn.apple. Apple pen. I have a nen. Pineapple. Apple peApple Pen Apple pen. A Pneapple pen. I have an apple. Pineapple pen. I have a pen. I have a juiAAppe. I have.. I have. I have an apple. Pineapple. Apple pen. Apple. I haApple. Pin apple Pen I have an apple. I have an apple pan.appleAppla. Pineapple pan Apple pen, Pineapple. A Pineapple pen. I have an apple pen. I Pineapple. Apple pen. I have avp... I have an apple . I han Apple. Apple pe Pen, Pineapple Pen, Pineapple pen. Pineapple pen, Pineapple pan.Apple penPI Apple Pen neApple pen. I have a pen. I have a pen. Apple pen. a penI I Ape . I have a pen. I have an apple pen. I have a pen. I heva pen. I have, I have a pen. I have a pen. I have a pen. I have a pen. I have a Pineapple pen. I have A pzPle pe an apple. I have a pen. I have apple pen. I have I have a pen. f, have an apple. I IaPen Apple pen. I have a jheapple. I have apple pen. I have a I have I Iave a pena, Pineapple penPe pen. I have an apple. I have a pen. I have a pen. I have a Pineapple pen. I have a I have a pen. I have a pen. I have a Pineapple. I have a nen. I have aI have a pen apple. PPn.. I have a pen. I hh. I have a Pineapple. Pineapple pen, Pineapple Pen ,ppla PlApple Pen PPAP"
     ]
    },
    {
     "name": "stdout",
     "output_type": "stream",
     "text": [
      "\n29.580440521240234\na pineapple Pen. Pineapple pen, Pineapple penPA, PiPen, Pine.pple Apple"
     ]
    },
    {
     "name": "stdout",
     "output_type": "stream",
     "text": [
      "\n26.637065887451172\nupe apple.. Pineapple pen, Pine.ppleApplevpen, Pineapple pan.I I have an appple. PPP, PPAA PPAP\n26.257953643798828"
     ]
    },
    {
     "name": "stdout",
     "output_type": "stream",
     "text": [
      "\nan apple. Apple pen. I have an apple. Apea. Pineapple Apple Pen, PineApple Apple Pen, iineapple Apple Pen, Pineapple pan Apple Apple Pen PPAP PPAP PPAP\n23.584238052368164\nI have a Pineapple. Pineapple Apple Pen PP . I have a pen. I have a heApple pen. I have a pen. I hazple. Apple pen. I have a pen. I hav. a pen I have a pen. I have a pen. I have a pen. I have a pen. I have a pen. I have a pen. I have a pen. I have a pen. I have an apple. Azple pan.Apple pen. I have a pen. I have a pen. I have a Pineapplle pen. I have a pen. I have a Pineapple pen, Pineapple Pen PPAP PPAP PPAP PPAP"
     ]
    },
    {
     "name": "stdout",
     "output_type": "stream",
     "text": [
      "\n20.961997985839844\nI have a Aple pen. I have a pen. I have a pen. I have a win apple. Pineapple Pen, Pineapple ven, Pineapple P\n20.708616256713867"
     ]
    },
    {
     "name": "stdout",
     "output_type": "stream",
     "text": [
      "\na pen. I have azplle. PPAP PPAP PPAP\n21.505712509155273\nI have an apple. Apple pen. I have a pen. II.ave a pen. I have a Pineapple pan.Applelpple pen. Pineapple Pen, Pineapple Apple pen. A Pineapple pen, Pineapple pan.Apple Pen PPAP PPAP PPAP PPAPe Pen PPAP\n18.25023651123047"
     ]
    },
    {
     "name": "stdout",
     "output_type": "stream",
     "text": [
      "\nI have a pen. I have a Pineapple. Pineapple Pen. PPAP\n17.13021469116211\nI have an Apple. Pineapple Apple Pen, Pineapple pan.Apple pen. I have a pen. I have a pen. I have a pen. I have an apple. Apple peAplle. Pineapple. Pineapple Pen, Pineapple pan.Apple Pen PPAP PPAP PPAP PPAP PPAP PPAP PAP\n16.501943588256836"
     ]
    },
    {
     "name": "stdout",
     "output_type": "stream",
     "text": [
      "\nI have a Pineapple. Pineapple Pen, Pineapple Pen, Pineapple Apple Pen PPAP PPAP\n15.226860046386719\nve an apple. Apple pen. I have a pen. I have an apple. I have an apple. Apple pen. I have a pen. I have a Pin.apple. Apna. Pineapple Apple Pen PPApple pen, Pineapple Pen, Pineapple pan.Apple Pen PPAP PPPAp PPen PPAP PPAP\n13.21268081665039"
     ]
    },
    {
     "name": "stdout",
     "output_type": "stream",
     "text": [
      "\nI have a Pineapple. Pineapple pan.n, Pineapple Pen, Pineapple Pen, Pineapple Pen, Pineapple Pen, Pineapple Pen, PPineapple Pen, Pineapple pan.Apple pen, Pineapple Pen, Pineapple Pen, Pineapple Apple Pen PPAP PPAP P,PP\n16.582279205322266\nI have a pen. I have a Pineapple. Pineapple Pen, Pineapple Apple Pen PPAP PPAP\n12.092254638671875"
     ]
    },
    {
     "name": "stdout",
     "output_type": "stream",
     "text": [
      "\nI have a Pineapplev. Apple pen. I have a Pineappleqpen. Pen I have an apple. Apple pen. I have an apple pan.apple. Pineapple Pen, Pineapple pan.e, Pineapple Pen, Pineapple Apple Pen PPAPppPAP PPAP PPAi PPAP PPAP PPAP PPAP PPAP PPAP PPAP PPAP PPAP PPPPA\n12.637045860290527\nI have a pen, Pineapple pan.Apple pen, PineApple pan.Apple pen, PiAn Apple penpe a, Pineapple pan.Apple pen. I have a pen. I have a pen. I have a pen. I have a pineapple. Apple pen. I have a pen. I have a pen. I have a Pineapple. Pineapple pen. I have an apple. Apple pen. I have a pen. I have an apple.. I have a pen. I have a pen. I have a pen. I have a pen. I have an apple. Apple pen. I have an apple. Apple pen. I have a pen. I have avple pen. I have a Pineapple. Pineapple pan.e, Pineapple pan.Apple pen, Pineapple pan.Apple pen, Pineapple Apple Pen PPAP PPAP"
     ]
    },
    {
     "name": "stdout",
     "output_type": "stream",
     "text": [
      "\n"
     ]
    }
   ],
   "source": [
    "sentence = \"I have a pen. I have an apple. Apple pen. \" \\\n",
    "           \"I have a pen. I have a Pineapple. Pineapple pan.\" \\\n",
    "           \"Apple pen, Pineapple Pen, Pineapple Apple Pen \" \\\n",
    "           \"PPAP PPAP PPAP\"\n",
    "train(lstm, sentence)"
   ]
  },
  {
   "cell_type": "code",
   "execution_count": 27,
   "metadata": {
    "collapsed": true
   },
   "outputs": [
    {
     "name": "stdout",
     "output_type": "stream",
     "text": [
      "12.392200469970703\nk have a pen. I have an apple. Pineapple pan.n. Pineapple. Pineapple pan.Apple pen, Pineapple pan.Apple pen, Pineapple Pen, Pineapple Pen, Pineapple Apple Pen PPAP Pineapple Apple Pen PPAP PPn, PPn, PPnAp la Pin apple pan.Apple\n11.039009094238281"
     ]
    },
    {
     "name": "stdout",
     "output_type": "stream",
     "text": [
      "\nI have a pen. I have an apple. Apple pen. I have an apple. Apple pen. I have a pen. I have an apple. Apple pen. I have a pen. I have a pen. I have an Apple pen. I have a pen. I have a Pineapple. Pineapple pen. I have an apple. Apple pen. I have a Pineapple. Pineapple pan.Apple pen. I have a pen. I have a pen. I have a pen. I have an apple. Apple pen. I have a pen. I have a Pineapple. Pineapple pan.Apple pen, Pineapple pan.Apple pen, Pineapple pan.Apple pen, PineApple pan.Apple pen, Pineapple Pen, Pineapple pan.APple pen, Pineapple pan.Apple pen, Pineapple pan.Apple pen, Pineapple Pen, Pineapple Pen, Pineapple pan,APple pen, PAP\n11.342870712280273"
     ]
    },
    {
     "name": "stdout",
     "output_type": "stream",
     "text": [
      "\nI have a pen. I have a Pineapple. Pineapple pan.Apple pen, PPPAP Pineapple Apple Pen PPAP PPAP\n10.583536148071289\nI have a pen. I have a Pineapple. Pineapple , Pineapple Pen, Pineapple Apple Pen PPAP PPrPPPPAPPP APPPAP\n9.70651912689209"
     ]
    },
    {
     "name": "stdout",
     "output_type": "stream",
     "text": [
      "\nn apple. Apple pen. I have a pen. I have a pen. I have a pen. I have a pen. I have a Pineapple. Pineapple pan.Apple pen, Pineapple pan.Apple pen, Pineapple pan.Apple pen, Pineapple Pen, Pineapple Apple Pen PPAP PPAP PPAP\n11.42435073852539\nI have a pen. I have an apple. ven, Pineapple Apple Pen PPAP PPAP PPAP\n10.252484321594238"
     ]
    },
    {
     "name": "stdout",
     "output_type": "stream",
     "text": [
      "\nI have an apple. Apple pen. I have a pen. I have a pen. I have a Pineapple. Pineapple pan.n. I have a pen. I have a pen. I have a pen. I have a Pineapple. Pineapple pan.Apple pen, Pineapple Apple Pen PPAp PPAP PPAP\n9.39427375793457\nI have an apple. Apple pen. I have an apple. Apple pen. I have a Pineapple. Pineapple Apple Pen PPAP PPAP PPAP\n9.088889122009277"
     ]
    },
    {
     "name": "stdout",
     "output_type": "stream",
     "text": [
      "\nI have a pen. I have a Pineapple. Apple pen. I have an apple. Apple pen. I have an apple. Apple pen. I have a Pineapple. Apnlapple. Pineapple pan.Apple pen. I have an apple. Apple pen. I have a Pineapple. Pineapple. Pineapple pan.Apple pen, Pineapple PenPAp PAAPPdlApple pen, Pineapple Pen, Pineapple Pen, Pineapple Apple Pen PPAP PPAP PPAP\n9.409394264221191"
     ]
    },
    {
     "name": "stdout",
     "output_type": "stream",
     "text": [
      "\nI have a pen. I have a pen. I have a pen. a pen. I have an apple. Apple pen. I have an apple. Apple pen. Apple pen. I have an apple. Apple pen. I have an apple. Apple pen. I have a pen. I have an apple. Apple pen. I have a pen. I have a Pineapple. Apple Aple pen. I have an apple pen. I have a pen. I have anla pe a pen. I have an apple. Apple pen. I have a pen. I have a Pineapple. Pineapple Pen, Pineapple pan.Apple pen, Pineapple Apple Pen PPAP PPAP PPAP\n13.255463600158691"
     ]
    },
    {
     "name": "stdout",
     "output_type": "stream",
     "text": [
      "\nI have a pen. I have an apple. Apple pen. I have a pen. I have a Pineapple. Pineapple Apple Pen PPAP PPAP PPAP\n7.244706153869629\nI have a pen. I have a Pineapple. pan.Apple pen. I have a pen. I have an apple. Apple pen. I have an apple. Apple pen. I have a pen. I have an apple. Apple pen. I have a pen. I have a Pineapple. Pen. I have an apple. Apple pen. I have a pen. I have a pen. I have a Pineapple. Pineapple. Pineapple. pen. I have a pen. I have a pen. I have an apple. f, Pineapple. neApple pen. I have a pen. I have a pen. I have an apple. Apple pen. I have an apple. Apple pen. I have a pen. I have a pen. I have a pen. I have an apple. Apple pen. I have an apple. APple pen. I have an apple. Apple pen. I have an apple. Apple pen. I have a Pineapple. Pineapple. Pineapple. Pineapple pan.Apple pen. I have a pen. I have an apple. Apple pen. I have an apple. Apple pen. I have an apple. Apple pen. Inave a pen. I have a Pineapppe. pan.Apple. Apple pen. I have an apple. Apple pen. I have an apple. Apple pen. I have a Pineapple. pan.Apple pen. I have a pen. I have a Pineapple. Pineapple. Pnven PPAApple pen, Pineapple pan.Apple pen, Pineapple pan.Apple pen, Pineapple pan.Apple pen, Pineapple pan.Apple pen, Pineapple pan.Apple pen, Pineapple Pen, Pineapple Pen, Pineapple pen, Pineapple Pen, Pineapple pan.Apple pen, Pineapple pan.Apple pen, Pineapple pan.Apple pen, Pineapple pan.Apple pen, Pineapple pan.Apple pen, Pineapple pan.Apple pen, Pineapple pan.Apple pen, Pineapple pan.Apple pen, Pineapple Pen, Pineapple pan.Apple pen, Pineapple Pen, PPAP PPAP PPAP"
     ]
    },
    {
     "name": "stdout",
     "output_type": "stream",
     "text": [
      "\n7.275094985961914\nI have a pen. I have a pen. I have a Pineapple. Pineapple Pen, Pineapple Apple Pen PPAP PPAP PPAP\n9.073365211486816"
     ]
    },
    {
     "name": "stdout",
     "output_type": "stream",
     "text": [
      "\nI have a pen. I have an apple. Apple pen. I have a Pineapple. Pineapple pan.Apple pen, Pineapple Pen, Pineapple Apple Pen PPAP PPAP PPAP\n7.048182487487793\nI have a pen. I have an apple. Apple pen. I have a Pineapplee PnnaApple pen, Pineapple Pen, Pineapple Pen, Pineapple Apple Pen PPAP PPAP PPAP\n8.098113059997559"
     ]
    },
    {
     "name": "stdout",
     "output_type": "stream",
     "text": [
      "\nI have a pen. I have an apple. Apple pen. I have an apple. Apple pen. I have a pen. I have a Pineapple. Pineapple pan,Apple pen, Pineapple Apple Pen PPAP PPAP PPAP\n12.969626426696777\nI have a pen. I have a Pineapple. Pineapple pan.Apple pen, Pineapple Apple Pen PPAP PPAP\n7.790821075439453"
     ]
    },
    {
     "name": "stdout",
     "output_type": "stream",
     "text": [
      "\nI have a pen. I have a Pineapple. Pineapple pan.Apple pen, Pineapple , Pineapple Pen PPAP PPAP PPAP PPAP PPAP PPAP PPAP PPAP PPAP PPAP PPAP PPAP PPAP PPAP PPAP PPAP\n5.071537971496582\nI have a pen. I have a pen. I have a pen. I hape a Pineapple. Pineapple pan.Apple pen, Pineapple Apple Pen PPAP PPAP PPAP"
     ]
    },
    {
     "name": "stdout",
     "output_type": "stream",
     "text": [
      "\n6.526144027709961\nI have I I have an apple. Apple pen, Pineapple Pen, Pineapple Pen, Pineapple Apple Pen PPAP PPAP PPAP\n7.514689922332764"
     ]
    },
    {
     "name": "stdout",
     "output_type": "stream",
     "text": [
      "\nI have a pen. I have an apple. Apple pen. I have a pen. I have a Pineapple. Pineapple pan.Apple pen, Pineapple Pen, Pineapple Pen, Pineapple Pen, Pineapple pan.Apple pen, PineappPe Pen, Pineapple Apple Pen PPAP PPAP PPAP\n3.974484443664551\nI have a pen. I have a Pineapple. Pineapple pan.Apple pen, Pineapple Apple Pen PPAP PPAP PPAP\n3.67156982421875"
     ]
    },
    {
     "name": "stdout",
     "output_type": "stream",
     "text": [
      "\nI have a pen. I have an.. I have an apple. Apple pen. I have a pen. I have an apple. Apple pen. I have a pen. I have an apple. Apple pen. I have a pen. I have a Pineapple. Pineapple pan.Apple pen, Pineapple Pen, Pineapple Apple Pen PPAP PPAP PPAP\n3.3444509506225586\nI have a pen. I have an apple. apple pen. I ha. I have an apple. Apple pen. I have a pen. I have an apple. Apple pen. I have a pen. I have a Pineapple. Pineapple pan.Apple pen, PPineappla Apple Pen PPAP PPAP PPAP\n3.011303186416626"
     ]
    },
    {
     "name": "stdout",
     "output_type": "stream",
     "text": [
      "\nI have a Pineapple. Pineapple Pen, Pineapple Apple Pen PPAP PPAP PPAP\n2.3998043537139893\nI have a pen. I have an apple. Apple pen. I have a pen. I have a Pineapple. Pineapple pan.Apple pen, Pineapple Pen, Pineapple Apple Pen PPAP PPAP PPPPPPPPPPPPPPPPPPPPPPPPPPPPPPPPPPPPPPPPPPPPPPP\n4.288810729980469"
     ]
    },
    {
     "name": "stdout",
     "output_type": "stream",
     "text": [
      "\nI have a pen. I have an apple. Apple pen. I have a pen. I have a Pineapple. Pineapple pan.Apple pen, Pineapple Pen, Pineapple Apple Pen PPAP\n4.547117233276367\nI have a pen. I have a Pineapple. Pineapple pan.e, Pineapple pan.Apple pen, Pineapple pan,Apple pen, Pineapple Pen, Pineapple Apple Pen PPAP PPAP PPAP\n2.091856002807617"
     ]
    },
    {
     "name": "stdout",
     "output_type": "stream",
     "text": [
      "\nI have a pen. I have an appleApple pen, Pineapple Pen, Pineapple Apple Pen PPAP PPAP PPAP\n1.9866646528244019\nI have a pen. I have a Pineapple. Pineapple pan.Apple pen, Pineapple Pen, Pineapple Apple Pen PPAP PPAP PPAP\n2.573357582092285"
     ]
    },
    {
     "name": "stdout",
     "output_type": "stream",
     "text": [
      "\nI have a pen. I have a Pineapple. Pineapple pan.Apple pen, Pineapple Pen, Pineapple Apple Pen PPAP PPAP PPAP\n2.446988821029663\nI have a pen. I have an apple. Apple pen. I have a pen. I have an apple. Apple pen. I have a pen. I have an apple. Apple pen. I have a pen. I have a Pineapple. Pineapple pan.Apple pen, Pineapple Pen, Pineapple Apple Pen PPAP PPAP PPAP"
     ]
    },
    {
     "name": "stdout",
     "output_type": "stream",
     "text": [
      "\n2.230179786682129\nI have a pen. I have a Pineapple. Pineapple pan.Apple pen, Pineapple Pen, Pineapple Apple Pen PPAP PPAP PPAP\n2.0759620666503906"
     ]
    },
    {
     "name": "stdout",
     "output_type": "stream",
     "text": [
      "\nI have a pen. I have an apple. Apple pen. I have a pen. I have an apple. Apple pen. I have a pen. I have an apple. Apple pen. I have a pen. I have an apple. Apple pen. I have a pen. I have an apple. Apple pen. I have a pen. I have an apple. Apple pen. I have a pen. I have an apple. Apple pen. I have a pen. I have a Pineapple. Pineapple pan.Apple pen, Pineapple Pen, PineapAle Apple Pen PPAP PPAP PPAP\n1.9663851261138916\nI have a pen. I have a Pineapple. Pineapple pan.Apple pen, Pineapple Pen, Pineapple Apple Pen PPAP PPAP PPAP"
     ]
    },
    {
     "name": "stdout",
     "output_type": "stream",
     "text": [
      "\n1.8968250751495361\nI have a pen. I have a Pineapple. Pineapple pan.Apple pen, Pineapple Pen, Pineapple Apple Pen PPAP PPAP PPAP\n1.8381050825119019"
     ]
    },
    {
     "name": "stdout",
     "output_type": "stream",
     "text": [
      "\nI have a pen. I have an apple. Apple pen. I have a pen. I have a Pineapple. Pineapple pan.Apple pen, Pineapple Pen, Pineapple Apple Pen PPAP PPAP PPAP\n1.7939939498901367\nI have a pen. I have an apple. Apple pen. I have a pen. I have an apple. Apple pen. I have a pen. I have an apple. Apple pen. I have a pen. I have an apple. Apple pen. I have a pen. I have an apple. Apple pen. I have a pen. I have an apple. Apple pen. I have a pen. I have an apple. Apple pen. I have a pen. I have a Pineapple. Pineapple pan.Apple pen, Pineapple Pen, Pineapple Apple Pen PPAP PPAP PPAP"
     ]
    },
    {
     "name": "stdout",
     "output_type": "stream",
     "text": [
      "\n1.7554216384887695\nI have a pen. I have a Pineapple. Pineapple pan.Apple pen, Pineapple Pen, Pineapple Apple Pen PPAP PPAP PPAP\n1.7247018814086914"
     ]
    },
    {
     "name": "stdout",
     "output_type": "stream",
     "text": [
      "\nI have a pen. I have a Pineapple. Pineapple pan.Apple pen, Pineapple Pen, Pineapple Apple Pen PPAP PPAP PPAP\n"
     ]
    }
   ],
   "source": [
    "sentence = \"I have a pen. I have an apple. Apple pen. \" \\\n",
    "           \"I have a pen. I have a Pineapple. Pineapple pan.\" \\\n",
    "           \"Apple pen, Pineapple Pen, Pineapple Apple Pen \" \\\n",
    "           \"PPAP PPAP PPAP\"\n",
    "train(lstm, sentence)"
   ]
  },
  {
   "cell_type": "code",
   "execution_count": 28,
   "metadata": {
    "collapsed": true
   },
   "outputs": [
    {
     "name": "stdout",
     "output_type": "stream",
     "text": [
      "1.6977767944335938\nI have a pen. I have a Pineapple. Pineapple pan.Apple pen, Pineapple Pen, Pineapple Apple Pen PPAP PPAP PPAP\n1.675619125366211"
     ]
    },
    {
     "name": "stdout",
     "output_type": "stream",
     "text": [
      "\nI have a pen. I have a Pineapple. Pineapple pan.Apple pen, Pineapple Pen, Pineapple Apple Pen PPAP PPAP PPAP\n1.6560249328613281\nI have a pen. I have a Pineapple. Pineapple pan.Apple pen, Pineapple Pen, Pineapple Apple Pen PPAP PPAP PPAP\n1.6394424438476562"
     ]
    },
    {
     "name": "stdout",
     "output_type": "stream",
     "text": [
      "\nI have a pen. I have an apple. Apple pen. I have a pen. I have a Pineapple. Pineapple pan.Apple pen, Pineapple Pen, Pineapple Apple Pen PPAP PPAP PPAP\n1.6246063709259033\nI have a pen. Apple pen. I have a pen. I have a Pineapple. Pineapple pan.Apple pen, Pineapple Pen, Pineapple Apple Pen PPAP PPAP PPAP\n1.611776351928711"
     ]
    },
    {
     "name": "stdout",
     "output_type": "stream",
     "text": [
      "\nI have a pen. I have an apple. Apple pen. I have a pen. I have a Pineapple. Pineapple pan.Apple pen, Pineapple Pen, Pineapple Apple Pen PPAP PPAP PPAP\n1.6001302003860474\nI have a pen. I have a Pineapple. Pineapple pan.Apple pen, Pineapple Pen, Pineapple Apple Pen PPAP PPAP PPAP"
     ]
    },
    {
     "name": "stdout",
     "output_type": "stream",
     "text": [
      "\n1.589889645576477\nI have a pen. I have an apple. Apple pen. I have a pen. I have an apple. Apple pen. I have a pen. I have an apple. Apple pen. I have a pen. I have an apple. Apple pen. I have a pen. I have an apple. Apple pen. I have a pen. I have an apple. Apple pen. I have a pen. I have an apple. Apple pen. I have a pen. I have an apple. Apple pen. I have a pen. I have a Pineapple. Pineapple pan.Apple pen, Pineapple Pen, Pineapple Apple Pen PPAP PPAP PPAP"
     ]
    },
    {
     "name": "stdout",
     "output_type": "stream",
     "text": [
      "\n1.5804884433746338\nI have a pen. I have an apple. Apple pen. I have a pen. I have a Pineapplelpple. Apple pen. I have a pen. I have a Pineapple. Pineapple pan.Apple pen, Pineapple Pen, Pineapple Apple Pen PPAP PPAP PPAP\n1.572121500968933"
     ]
    },
    {
     "name": "stdout",
     "output_type": "stream",
     "text": [
      "\nI have a pen. I have an apple. Apple pen. I have a pen. I have a Pineapple. Pineapple pan.Apple pen, Pineapple Pen, Pineapple Apple Pen PPAP PPAP PPAP\n1.5643460750579834\nI have a pen. I have a Pineapple. Pineapple pan.Apple pen, Pineapple Pen, Pineapple Apple Pen PPAP PPAP PPAP"
     ]
    },
    {
     "name": "stdout",
     "output_type": "stream",
     "text": [
      "\n1.557356834411621\nI have a pen. I have an apple. Apple pen. I have a pen. I have an apple. Apple pen. I have a pen. I have a Pineapple. Pineapple pan.Apple pen, Pineapple Pen, Pineapple Apple Pen PPAP PPAP PPAP\n1.550827145576477"
     ]
    },
    {
     "name": "stdout",
     "output_type": "stream",
     "text": [
      "\nI have a pen. I have an apple. Apple pen. I have a pen. I have a Pineapple. Pineapple pan.Apple pen, Pineapple Pen, Pineapple Apple Pen PPAP PPAP PPAP\n1.5448905229568481\nI have a pen. I have a Pineapple. Pineapple pan.Apple pen, Pineapple Pen, Pineapple Apple Pen PPAP PPAP PPAP\n1.5392999649047852"
     ]
    },
    {
     "name": "stdout",
     "output_type": "stream",
     "text": [
      "\nI have a pen. I have a Pineapple. Pineapple pan.Apple pen, Pineapple Pen, Pineapple Apple Pen PPAP PPAP PPAP\n1.5341931581497192\nI have a pen. I have an apple. Apple pen. I have a pen. I have an apple. Apple pen. I have a pen. I have an apple. Apple pen. I have a pen. I have ay apple pen. I have a pen. I have a Pineapple. Pineapple pan.Apple pen, Pineapple Pen, Pineapple Apple Pen PPAP PPAP PPAP"
     ]
    },
    {
     "name": "stdout",
     "output_type": "stream",
     "text": [
      "\n1.5293550491333008\nI have a pen. I have a Pineapple. Pineapple pan.Apple pen, Pineapple Pen, Pineapple Apple Pen PPAP PPAP PPAP\n1.5249015092849731"
     ]
    },
    {
     "name": "stdout",
     "output_type": "stream",
     "text": [
      "\nI have a pen. I have an apple. Apple pen. I have a pen. I have an apple. Apple pen. I have a pen. I have a Pineapple. Pineapple pan.Apple pen, Pineapple Pen, Pineapple Apple Pen PPAP PPAP PPAP\n1.5206775665283203\nI have a pen. I have a Pineapple. Pineapple pan.Apple pen, Pineapple Pen, Pineapple Apple Pen PPAP PPAP PPAP\n1.5167505741119385"
     ]
    },
    {
     "name": "stdout",
     "output_type": "stream",
     "text": [
      "\nI have a pen. I have an apple. Apple pen. I have a pen. I have an apple. Apple pen. I have a pen. I have an apple. Apple pen. I have a pen. I have an apple. Apple pen. I have a pen. I have a Pineapple. Pineapple pan.Apple pen, Pineapple Pen, Pineapple Apple Pen PPAP PPAP PPAP\n1.513022541999817\nI have a pen. I have an apple. Apple pen. I have a pen. I have a Pineapple. Pineapple pen, Pineapple Apple Pen PPAP PPAP PPAP\n1.5095548629760742"
     ]
    },
    {
     "name": "stdout",
     "output_type": "stream",
     "text": [
      "\nI have a pen. I have a Pineapple. Pineapple pan.Apple pen, Pineapple Pen, Pineapple Apple Pen PPAP PPAP PPAP\n1.506246566772461\nI have a pen. I have a Pineapple. Pineapple pan.Apple pen, Pineapple Pen, Pineapple Apple Pen PPAP PPAP PPAP\n1.5031538009643555"
     ]
    },
    {
     "name": "stdout",
     "output_type": "stream",
     "text": [
      "\nI have a pen. I have an apple. Apple pen. I have a pen. I have an apple. Apple pen. I have a pen. I have an apple. Apple pen. I have a pen. I have an apple. Apple pen. I have a pen. I have a Pineapple. Pineapple pan.Apple pen, Pineapple Pen, Pineapple Apple Pen PPAP PPAP PPAP\n1.5001879930496216\nI have a pen. I have a Pineapple. Pineapple pan.Apple pen, Pineapple Pen, Pineapple Apple Pen PPAP PPAP PPAP\n1.4974164962768555"
     ]
    },
    {
     "name": "stdout",
     "output_type": "stream",
     "text": [
      "\nI have a pen. I have an apple. Apple pen. I have a pen. I have an apple. Apple pen, Pineapple Pen, Pineapple Apple Pen PPAP PPAP PPAP\n1.4947471618652344\nI have a pen. I have a Pineapple. Pineapple pan.Apple pen, Pineapple Pen, Pineapple Apple Pen PPAP PPAP PPAP\n1.4922332763671875"
     ]
    },
    {
     "name": "stdout",
     "output_type": "stream",
     "text": [
      "\nI have a pen. I have a Pineapple. Pineapple pan.Apple pen, Pineapple Pen, Pineapple Apple Pen PPAP PPAP PPAP\n1.4898253679275513\nI have a pen. I have an apple. Apple pen. I have a pen. I have a Pineapple. Pineapple pan.Apple pen, Pineapple Pen, Pineapple Apple Pen PPAP PPAP PPAP\n1.4875556230545044"
     ]
    },
    {
     "name": "stdout",
     "output_type": "stream",
     "text": [
      "\nI have a pen. I have an apple. Apple pen. I have a pen. I have an apple. Apple pen. I have a pen. I have an apple. Apple pen. I have a pen. I have an apple. Apple pen. I have a pen. I have a Pineapple. Pineapple pan.Apple pen, Pineapple Pen, Pineapple Apple Pen PPAP PPAP PPAP\n1.4853572845458984\nI have a pen. I have a Pineapple. Pineapple pan.Apple pen, Pineapple Pen, Pineapple Apple Pen PPAP PPAP PPAP\n1.483297348022461"
     ]
    },
    {
     "name": "stdout",
     "output_type": "stream",
     "text": [
      "\nI have a pen. I have a Pineapple. Pineapple pan.Apple pen, Pineapple Pen, Pineapple Apple Pen PPAP PPAP PPAP\n1.4812889099121094\nI have a pen. I have a Pineapple. Pineapple pan.Apple pen, Pineapple Pen, Pineapple Apple Pen PPAP PPAP PPAP\n1.4794045686721802"
     ]
    },
    {
     "name": "stdout",
     "output_type": "stream",
     "text": [
      "\nI have a pen. I have a Pineapple. Pineapple pan.Apple pen, Pineapple Pen, Pineapple Apple Pen PPAP PPAP PPAP\n1.4775687456130981\nI have a pen. I have an apple. Apple pen. I have a pen. I have a Pineapple. Pineapple pan.Apple pen. Pineapple pan.Apple pen, Pineapple Pen, Pineapple Apple Pen PPAP PPAP PPAP"
     ]
    },
    {
     "name": "stdout",
     "output_type": "stream",
     "text": [
      "\n1.4758434295654297\nI have a pen. I have an apple. Apple pen. I have a pen. I have a Pineapple. Pineapple pan.Apple pen, Pineapple Pen, Pineapple Apple Pen PPAP PPAP PPAP\n1.474153757095337"
     ]
    },
    {
     "name": "stdout",
     "output_type": "stream",
     "text": [
      "\nI have a pen. I have an apple. Apple pen. I have a pen. I have an apple. Apple pen. I have a pen. I have an apple. Apple pen. I have a pen. I have an apple. Apple pen. I have a pen. I have an apple. Apple pen. I have a pen. I have an apple. Apple pen. I have a pen. I have an apple. Apple pen. I have a pen. I have a Pineapple. Pineapple pan.Apple pen, Pineapple Pen, Pineapple Apple Pen PPAP PPAP PPAP\n1.4725505113601685\nI have a pen. I have a Pineapple. Pineapple pan.Apple pen, Pineapple Pen, Pineapple Apple Pen PPAP PPAP PPAP"
     ]
    },
    {
     "name": "stdout",
     "output_type": "stream",
     "text": [
      "\n1.470999836921692\nI have a pen. I have an apple. Apple pen. I have a pen. I have a Pineapple. Pineapple pan.Apple pen, Pineapple Pen, Pineapple Apple Pen PPAP PPAP PPAP\n1.469527244567871"
     ]
    },
    {
     "name": "stdout",
     "output_type": "stream",
     "text": [
      "\nI have a pen. I have a Pineapple. Pineapple pan.Apple pen, Pineapple Pen, Pineapple Apple Pen PPAP PPAP PPAP\n"
     ]
    }
   ],
   "source": [
    "sentence = \"I have a pen. I have an apple. Apple pen. \" \\\n",
    "           \"I have a pen. I have a Pineapple. Pineapple pan.\" \\\n",
    "           \"Apple pen, Pineapple Pen, Pineapple Apple Pen \" \\\n",
    "           \"PPAP PPAP PPAP\"\n",
    "train(lstm, sentence)"
   ]
  },
  {
   "cell_type": "code",
   "execution_count": 28,
   "metadata": {
    "collapsed": true
   },
   "outputs": [
    {
     "name": "stdout",
     "output_type": "stream",
     "text": [
      "1.6977767944335938\nI have a pen. I have a Pineapple. Pineapple pan.Apple pen, Pineapple Pen, Pineapple Apple Pen PPAP PPAP PPAP\n1.675619125366211"
     ]
    },
    {
     "name": "stdout",
     "output_type": "stream",
     "text": [
      "\nI have a pen. I have a Pineapple. Pineapple pan.Apple pen, Pineapple Pen, Pineapple Apple Pen PPAP PPAP PPAP\n1.6560249328613281\nI have a pen. I have a Pineapple. Pineapple pan.Apple pen, Pineapple Pen, Pineapple Apple Pen PPAP PPAP PPAP\n1.6394424438476562"
     ]
    },
    {
     "name": "stdout",
     "output_type": "stream",
     "text": [
      "\nI have a pen. I have an apple. Apple pen. I have a pen. I have a Pineapple. Pineapple pan.Apple pen, Pineapple Pen, Pineapple Apple Pen PPAP PPAP PPAP\n1.6246063709259033\nI have a pen. Apple pen. I have a pen. I have a Pineapple. Pineapple pan.Apple pen, Pineapple Pen, Pineapple Apple Pen PPAP PPAP PPAP\n1.611776351928711"
     ]
    },
    {
     "name": "stdout",
     "output_type": "stream",
     "text": [
      "\nI have a pen. I have an apple. Apple pen. I have a pen. I have a Pineapple. Pineapple pan.Apple pen, Pineapple Pen, Pineapple Apple Pen PPAP PPAP PPAP\n1.6001302003860474\nI have a pen. I have a Pineapple. Pineapple pan.Apple pen, Pineapple Pen, Pineapple Apple Pen PPAP PPAP PPAP"
     ]
    },
    {
     "name": "stdout",
     "output_type": "stream",
     "text": [
      "\n1.589889645576477\nI have a pen. I have an apple. Apple pen. I have a pen. I have an apple. Apple pen. I have a pen. I have an apple. Apple pen. I have a pen. I have an apple. Apple pen. I have a pen. I have an apple. Apple pen. I have a pen. I have an apple. Apple pen. I have a pen. I have an apple. Apple pen. I have a pen. I have an apple. Apple pen. I have a pen. I have a Pineapple. Pineapple pan.Apple pen, Pineapple Pen, Pineapple Apple Pen PPAP PPAP PPAP"
     ]
    },
    {
     "name": "stdout",
     "output_type": "stream",
     "text": [
      "\n1.5804884433746338\nI have a pen. I have an apple. Apple pen. I have a pen. I have a Pineapplelpple. Apple pen. I have a pen. I have a Pineapple. Pineapple pan.Apple pen, Pineapple Pen, Pineapple Apple Pen PPAP PPAP PPAP\n1.572121500968933"
     ]
    },
    {
     "name": "stdout",
     "output_type": "stream",
     "text": [
      "\nI have a pen. I have an apple. Apple pen. I have a pen. I have a Pineapple. Pineapple pan.Apple pen, Pineapple Pen, Pineapple Apple Pen PPAP PPAP PPAP\n1.5643460750579834\nI have a pen. I have a Pineapple. Pineapple pan.Apple pen, Pineapple Pen, Pineapple Apple Pen PPAP PPAP PPAP"
     ]
    },
    {
     "name": "stdout",
     "output_type": "stream",
     "text": [
      "\n1.557356834411621\nI have a pen. I have an apple. Apple pen. I have a pen. I have an apple. Apple pen. I have a pen. I have a Pineapple. Pineapple pan.Apple pen, Pineapple Pen, Pineapple Apple Pen PPAP PPAP PPAP\n1.550827145576477"
     ]
    },
    {
     "name": "stdout",
     "output_type": "stream",
     "text": [
      "\nI have a pen. I have an apple. Apple pen. I have a pen. I have a Pineapple. Pineapple pan.Apple pen, Pineapple Pen, Pineapple Apple Pen PPAP PPAP PPAP\n1.5448905229568481\nI have a pen. I have a Pineapple. Pineapple pan.Apple pen, Pineapple Pen, Pineapple Apple Pen PPAP PPAP PPAP\n1.5392999649047852"
     ]
    },
    {
     "name": "stdout",
     "output_type": "stream",
     "text": [
      "\nI have a pen. I have a Pineapple. Pineapple pan.Apple pen, Pineapple Pen, Pineapple Apple Pen PPAP PPAP PPAP\n1.5341931581497192\nI have a pen. I have an apple. Apple pen. I have a pen. I have an apple. Apple pen. I have a pen. I have an apple. Apple pen. I have a pen. I have ay apple pen. I have a pen. I have a Pineapple. Pineapple pan.Apple pen, Pineapple Pen, Pineapple Apple Pen PPAP PPAP PPAP"
     ]
    },
    {
     "name": "stdout",
     "output_type": "stream",
     "text": [
      "\n1.5293550491333008\nI have a pen. I have a Pineapple. Pineapple pan.Apple pen, Pineapple Pen, Pineapple Apple Pen PPAP PPAP PPAP\n1.5249015092849731"
     ]
    },
    {
     "name": "stdout",
     "output_type": "stream",
     "text": [
      "\nI have a pen. I have an apple. Apple pen. I have a pen. I have an apple. Apple pen. I have a pen. I have a Pineapple. Pineapple pan.Apple pen, Pineapple Pen, Pineapple Apple Pen PPAP PPAP PPAP\n1.5206775665283203\nI have a pen. I have a Pineapple. Pineapple pan.Apple pen, Pineapple Pen, Pineapple Apple Pen PPAP PPAP PPAP\n1.5167505741119385"
     ]
    },
    {
     "name": "stdout",
     "output_type": "stream",
     "text": [
      "\nI have a pen. I have an apple. Apple pen. I have a pen. I have an apple. Apple pen. I have a pen. I have an apple. Apple pen. I have a pen. I have an apple. Apple pen. I have a pen. I have a Pineapple. Pineapple pan.Apple pen, Pineapple Pen, Pineapple Apple Pen PPAP PPAP PPAP\n1.513022541999817\nI have a pen. I have an apple. Apple pen. I have a pen. I have a Pineapple. Pineapple pen, Pineapple Apple Pen PPAP PPAP PPAP\n1.5095548629760742"
     ]
    },
    {
     "name": "stdout",
     "output_type": "stream",
     "text": [
      "\nI have a pen. I have a Pineapple. Pineapple pan.Apple pen, Pineapple Pen, Pineapple Apple Pen PPAP PPAP PPAP\n1.506246566772461\nI have a pen. I have a Pineapple. Pineapple pan.Apple pen, Pineapple Pen, Pineapple Apple Pen PPAP PPAP PPAP\n1.5031538009643555"
     ]
    },
    {
     "name": "stdout",
     "output_type": "stream",
     "text": [
      "\nI have a pen. I have an apple. Apple pen. I have a pen. I have an apple. Apple pen. I have a pen. I have an apple. Apple pen. I have a pen. I have an apple. Apple pen. I have a pen. I have a Pineapple. Pineapple pan.Apple pen, Pineapple Pen, Pineapple Apple Pen PPAP PPAP PPAP\n1.5001879930496216\nI have a pen. I have a Pineapple. Pineapple pan.Apple pen, Pineapple Pen, Pineapple Apple Pen PPAP PPAP PPAP\n1.4974164962768555"
     ]
    },
    {
     "name": "stdout",
     "output_type": "stream",
     "text": [
      "\nI have a pen. I have an apple. Apple pen. I have a pen. I have an apple. Apple pen, Pineapple Pen, Pineapple Apple Pen PPAP PPAP PPAP\n1.4947471618652344\nI have a pen. I have a Pineapple. Pineapple pan.Apple pen, Pineapple Pen, Pineapple Apple Pen PPAP PPAP PPAP\n1.4922332763671875"
     ]
    },
    {
     "name": "stdout",
     "output_type": "stream",
     "text": [
      "\nI have a pen. I have a Pineapple. Pineapple pan.Apple pen, Pineapple Pen, Pineapple Apple Pen PPAP PPAP PPAP\n1.4898253679275513\nI have a pen. I have an apple. Apple pen. I have a pen. I have a Pineapple. Pineapple pan.Apple pen, Pineapple Pen, Pineapple Apple Pen PPAP PPAP PPAP\n1.4875556230545044"
     ]
    },
    {
     "name": "stdout",
     "output_type": "stream",
     "text": [
      "\nI have a pen. I have an apple. Apple pen. I have a pen. I have an apple. Apple pen. I have a pen. I have an apple. Apple pen. I have a pen. I have an apple. Apple pen. I have a pen. I have a Pineapple. Pineapple pan.Apple pen, Pineapple Pen, Pineapple Apple Pen PPAP PPAP PPAP\n1.4853572845458984\nI have a pen. I have a Pineapple. Pineapple pan.Apple pen, Pineapple Pen, Pineapple Apple Pen PPAP PPAP PPAP\n1.483297348022461"
     ]
    },
    {
     "name": "stdout",
     "output_type": "stream",
     "text": [
      "\nI have a pen. I have a Pineapple. Pineapple pan.Apple pen, Pineapple Pen, Pineapple Apple Pen PPAP PPAP PPAP\n1.4812889099121094\nI have a pen. I have a Pineapple. Pineapple pan.Apple pen, Pineapple Pen, Pineapple Apple Pen PPAP PPAP PPAP\n1.4794045686721802"
     ]
    },
    {
     "name": "stdout",
     "output_type": "stream",
     "text": [
      "\nI have a pen. I have a Pineapple. Pineapple pan.Apple pen, Pineapple Pen, Pineapple Apple Pen PPAP PPAP PPAP\n1.4775687456130981\nI have a pen. I have an apple. Apple pen. I have a pen. I have a Pineapple. Pineapple pan.Apple pen. Pineapple pan.Apple pen, Pineapple Pen, Pineapple Apple Pen PPAP PPAP PPAP"
     ]
    },
    {
     "name": "stdout",
     "output_type": "stream",
     "text": [
      "\n1.4758434295654297\nI have a pen. I have an apple. Apple pen. I have a pen. I have a Pineapple. Pineapple pan.Apple pen, Pineapple Pen, Pineapple Apple Pen PPAP PPAP PPAP\n1.474153757095337"
     ]
    },
    {
     "name": "stdout",
     "output_type": "stream",
     "text": [
      "\nI have a pen. I have an apple. Apple pen. I have a pen. I have an apple. Apple pen. I have a pen. I have an apple. Apple pen. I have a pen. I have an apple. Apple pen. I have a pen. I have an apple. Apple pen. I have a pen. I have an apple. Apple pen. I have a pen. I have an apple. Apple pen. I have a pen. I have a Pineapple. Pineapple pan.Apple pen, Pineapple Pen, Pineapple Apple Pen PPAP PPAP PPAP\n1.4725505113601685\nI have a pen. I have a Pineapple. Pineapple pan.Apple pen, Pineapple Pen, Pineapple Apple Pen PPAP PPAP PPAP"
     ]
    },
    {
     "name": "stdout",
     "output_type": "stream",
     "text": [
      "\n1.470999836921692\nI have a pen. I have an apple. Apple pen. I have a pen. I have a Pineapple. Pineapple pan.Apple pen, Pineapple Pen, Pineapple Apple Pen PPAP PPAP PPAP\n1.469527244567871"
     ]
    },
    {
     "name": "stdout",
     "output_type": "stream",
     "text": [
      "\nI have a pen. I have a Pineapple. Pineapple pan.Apple pen, Pineapple Pen, Pineapple Apple Pen PPAP PPAP PPAP\n"
     ]
    }
   ],
   "source": [
    "sentence = \"I have a pen. I have an apple. Apple pen. \" \\\n",
    "           \"I have a pen. I have a Pineapple. Pineapple pan.\" \\\n",
    "           \"Apple pen, Pineapple Pen, Pineapple Apple Pen \" \\\n",
    "           \"PPAP PPAP PPAP\"\n",
    "train(lstm, sentence)"
   ]
  },
  {
   "cell_type": "code",
   "execution_count": null,
   "metadata": {},
   "outputs": [],
   "source": [
    ""
   ]
  }
 ],
 "metadata": {
  "kernelspec": {
   "display_name": "Python 3",
   "language": "python",
   "name": "python3"
  },
  "language_info": {
   "codemirror_mode": {
    "name": "ipython",
    "version": 3.0
   },
   "file_extension": ".py",
   "mimetype": "text/x-python",
   "name": "python",
   "nbconvert_exporter": "python",
   "pygments_lexer": "ipython3",
   "version": "3.4.3"
  }
 },
 "nbformat": 4,
 "nbformat_minor": 0
}