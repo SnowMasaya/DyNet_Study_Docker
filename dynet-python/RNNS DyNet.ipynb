{
 "cells": [
  {
   "cell_type": "markdown",
   "metadata": {},
   "source": [
    "# DyNet RNNs チュートリアル\n",
    "\n",
    "チュートリアルを意訳しています。\n",
    "\n",
    "参考\n",
    "* https://github.com/clab/dynet/blob/master/examples/python/tutorials/RNNs.ipynb\n",
    "* https://media.readthedocs.org/pdf/dynet/latest/dynet.pdf"
   ]
  },
  {
   "cell_type": "code",
   "execution_count": 1,
   "metadata": {
    "collapsed": true
   },
   "outputs": [],
   "source": [
    "from dynet import *"
   ]
  },
  {
   "cell_type": "markdown",
   "metadata": {},
   "source": [
    "# LSTM/RNN 全体像\n",
    "\n",
    "１層のRNNは隠れ層を次のように分けている $h_1,...,h_k$, $h_i$ は時間ごとの指標を表している\n",
    "それぞれの層$h_i$は入力$x_i$と出力$r_i$に加えて過去の入力$r_{i-1}$も与える\n",
    "複数層の場合は連続ではなく網目状になる。例えば\n",
    "\n",
    "* $h_1^3,...,h_k^3$\n",
    "* $h_1^2,...,h_k^2$\n",
    "* $h_1^1,...h_k^1$\n",
    "\n",
    "上記の場合は\n",
    "\n",
    "隠れ層$h_i^1$の入力は$x_i$と$r_{i-1}^1$\n",
    "\n",
    "隠れ層$h_i^2$の入力は$r_i^1$と$r_{i-1}^2$　など"
   ]
  },
  {
   "cell_type": "markdown",
   "metadata": {},
   "source": [
    "# LSTM インターフェース"
   ]
  },
  {
   "cell_type": "markdown",
   "metadata": {},
   "source": [
    "RNN / LSTM / GRU は同様のインターフェースになる。\n",
    "\"builder\"が連続列のためのパラメータを作成する"
   ]
  },
  {
   "cell_type": "code",
   "execution_count": 2,
   "metadata": {
    "collapsed": false
   },
   "outputs": [],
   "source": [
    "model = Model()\n",
    "NUM_LAYERS = 2\n",
    "INPUT_DIM = 50\n",
    "HIDDEN_DIM = 10\n",
    "builder = LSTMBuilder(NUM_LAYERS, INPUT_DIM, HIDDEN_DIM, model)"
   ]
  },
  {
   "cell_type": "markdown",
   "metadata": {},
   "source": [
    "\"Builder\"でRNNの内部パラメータをモデルに加えることでパラメータを意識しなくて良くなるが最適化の際は同時に行ってくれる！！"
   ]
  },
  {
   "cell_type": "code",
   "execution_count": 3,
   "metadata": {
    "collapsed": false
   },
   "outputs": [
    {
     "data": {
      "text/plain": [
       "<_dynet.RNNState at 0x7fd308f73ae8>"
      ]
     },
     "execution_count": 3,
     "metadata": {},
     "output_type": "execute_result"
    }
   ],
   "source": [
    "s0 = builder.initial_state()\n",
    "s0"
   ]
  },
  {
   "cell_type": "code",
   "execution_count": 4,
   "metadata": {
    "collapsed": false
   },
   "outputs": [
    {
     "name": "stdout",
     "output_type": "stream",
     "text": [
      "expression 22/0\n",
      "expression 23/0\n"
     ]
    }
   ],
   "source": [
    "print(vecInput(10))\n",
    "x1 = vecInput(INPUT_DIM)\n",
    "print(x1)"
   ]
  },
  {
   "cell_type": "code",
   "execution_count": 5,
   "metadata": {
    "collapsed": true
   },
   "outputs": [],
   "source": [
    "s1 = s0.add_input(x1)\n",
    "y1 = s1.output()"
   ]
  },
  {
   "cell_type": "code",
   "execution_count": 6,
   "metadata": {
    "collapsed": false,
    "scrolled": true
   },
   "outputs": [
    {
     "data": {
      "text/plain": [
       "(10,)"
      ]
     },
     "execution_count": 6,
     "metadata": {},
     "output_type": "execute_result"
    }
   ],
   "source": [
    "y1.npvalue().shape"
   ]
  },
  {
   "cell_type": "code",
   "execution_count": 7,
   "metadata": {
    "collapsed": false
   },
   "outputs": [
    {
     "data": {
      "text/plain": [
       "(expression 33/0, expression 43/0)"
      ]
     },
     "execution_count": 7,
     "metadata": {},
     "output_type": "execute_result"
    }
   ],
   "source": [
    "s1.h()"
   ]
  },
  {
   "cell_type": "code",
   "execution_count": 8,
   "metadata": {
    "collapsed": false
   },
   "outputs": [
    {
     "data": {
      "text/plain": [
       "expression 67/0"
      ]
     },
     "execution_count": 8,
     "metadata": {},
     "output_type": "execute_result"
    }
   ],
   "source": [
    "s2 = s1.add_input(x1)\n",
    "y2 = s2.output()\n",
    "y2"
   ]
  },
  {
   "cell_type": "markdown",
   "metadata": {},
   "source": [
    "１層の層で$y2$は隠れ層の状態と等しい。しかしながら最終層でもある。\n",
    "隠れ層の状態にアクセスしたい場合は下記のメソッドを使用する"
   ]
  },
  {
   "cell_type": "code",
   "execution_count": 9,
   "metadata": {
    "collapsed": false
   },
   "outputs": [
    {
     "data": {
      "text/plain": [
       "(expression 55/0, expression 67/0)"
      ]
     },
     "execution_count": 9,
     "metadata": {},
     "output_type": "execute_result"
    }
   ],
   "source": [
    "s2.h()"
   ]
  },
  {
   "cell_type": "markdown",
   "metadata": {},
   "source": [
    "LSTMの状態の出力を比較してみると"
   ]
  },
  {
   "cell_type": "code",
   "execution_count": 10,
   "metadata": {
    "collapsed": false
   },
   "outputs": [
    {
     "name": "stdout",
     "output_type": "stream",
     "text": [
      "all layers: (expression 33/0, expression 43/0)\n"
     ]
    }
   ],
   "source": [
    "print(\"all layers:\", s1.h())"
   ]
  },
  {
   "cell_type": "code",
   "execution_count": 11,
   "metadata": {
    "collapsed": false
   },
   "outputs": [
    {
     "name": "stdout",
     "output_type": "stream",
     "text": [
      "(expression 29/0, expression 39/0, expression 33/0, expression 43/0)\n"
     ]
    }
   ],
   "source": [
    "print( s1.s())"
   ]
  },
  {
   "cell_type": "markdown",
   "metadata": {},
   "source": [
    "同様のインターフェースでシンプルなRNNも作成可能"
   ]
  },
  {
   "cell_type": "code",
   "execution_count": 12,
   "metadata": {
    "collapsed": false
   },
   "outputs": [
    {
     "name": "stdout",
     "output_type": "stream",
     "text": [
      "(expression 75/0, expression 77/0)\n"
     ]
    }
   ],
   "source": [
    "rnnbuilder = SimpleRNNBuilder(NUM_LAYERS, INPUT_DIM, HIDDEN_DIM, model)\n",
    "\n",
    "rs0 = rnnbuilder.initial_state()\n",
    "\n",
    "rs1 = rs0.add_input(x1)\n",
    "ry1 = rs1.output()\n",
    "print( rs1.s())"
   ]
  },
  {
   "cell_type": "markdown",
   "metadata": {},
   "source": [
    "* 出力は\"output\"メソッドで行う\n",
    "* 隠れ層の値は\"h()\"メソッドで行う\n",
    "* 状態は\"s()\"で確認する\n",
    "\n",
    "LSTMのみ出力が４つになっている。これは入力層、忘却層、過去の入力層、出力層が存在するためである。"
   ]
  },
  {
   "cell_type": "code",
   "execution_count": 13,
   "metadata": {
    "collapsed": false
   },
   "outputs": [
    {
     "name": "stdout",
     "output_type": "stream",
     "text": [
      "RNN h: (expression 75/0, expression 77/0)\n",
      "RNN s: (expression 75/0, expression 77/0)\n",
      "LSTM h: (expression 33/0, expression 43/0)\n",
      "LSTM s: (expression 29/0, expression 39/0, expression 33/0, expression 43/0)\n"
     ]
    }
   ],
   "source": [
    "rnn_h = rs1.h()\n",
    "rnn_s = rs1.s()\n",
    "print(\"RNN h:\", rnn_h)\n",
    "print(\"RNN s:\", rnn_s)\n",
    "\n",
    "lstm_h = s1.h()\n",
    "lstm_s = s1.s()\n",
    "print(\"LSTM h:\", lstm_h)\n",
    "print(\"LSTM s:\", lstm_s)"
   ]
  },
  {
   "cell_type": "markdown",
   "metadata": {},
   "source": [
    "# RNNとLSTMインターフェースのオプション\n",
    "\n",
    "Stack LSTM: 過去の状態を覚えておけるのでそこに新たに追加してグラフの作成が行える。\n",
    "\n"
   ]
  },
  {
   "cell_type": "code",
   "execution_count": 14,
   "metadata": {
    "collapsed": true
   },
   "outputs": [],
   "source": [
    "s2 = s1.add_input(x1)\n",
    "s3 = s2.add_input(x1)\n",
    "s4 = s3.add_input(x1)\n",
    "\n",
    "# s3に新しい入力を加える\n",
    "s5 = s3.add_input(x1)\n",
    "\n",
    "#下記の２つの異なる列ができている\n",
    "# s0, s1, s2, s3, s4\n",
    "# s0, s1, s2, s3, s5\n",
    "\n",
    "assert(s5.prev() == s3)\n",
    "assert(s4.prev() == s3)\n",
    "\n",
    "s6 = s3.prev().add_input(x1)\n",
    "# s0, s1, s2, s6"
   ]
  },
  {
   "cell_type": "code",
   "execution_count": 15,
   "metadata": {
    "collapsed": false
   },
   "outputs": [
    {
     "data": {
      "text/plain": [
       "(expression 185/0, expression 197/0)"
      ]
     },
     "execution_count": 15,
     "metadata": {},
     "output_type": "execute_result"
    }
   ],
   "source": [
    "s6.h()"
   ]
  },
  {
   "cell_type": "markdown",
   "metadata": {},
   "source": [
    "4つの列が出力される"
   ]
  },
  {
   "cell_type": "code",
   "execution_count": 16,
   "metadata": {
    "collapsed": false
   },
   "outputs": [
    {
     "data": {
      "text/plain": [
       "(expression 181/0, expression 193/0, expression 185/0, expression 197/0)"
      ]
     },
     "execution_count": 16,
     "metadata": {},
     "output_type": "execute_result"
    }
   ],
   "source": [
    "s6.s()"
   ]
  },
  {
   "cell_type": "markdown",
   "metadata": {},
   "source": [
    "# メモリの効果的な変換\n",
    "\n",
    "入力列をlist化して今までのことを一気にやってくれる手法があります。"
   ]
  },
  {
   "cell_type": "code",
   "execution_count": 17,
   "metadata": {
    "collapsed": false
   },
   "outputs": [
    {
     "name": "stdout",
     "output_type": "stream",
     "text": [
      "[expression 201/0, expression 205/0, expression 209/0]\n",
      "[(expression 199/0, expression 201/0), (expression 203/0, expression 205/0), (expression 207/0, expression 209/0)]\n"
     ]
    }
   ],
   "source": [
    "state = rnnbuilder.initial_state()\n",
    "xs = [x1, x1, x1]\n",
    "states = state.add_inputs(xs)\n",
    "outputs = [s.output() for s in states]\n",
    "hs = [s.h() for s in states]\n",
    "print(outputs)\n",
    "print(hs)"
   ]
  },
  {
   "cell_type": "markdown",
   "metadata": {},
   "source": [
    "transduceを使用すればもっとメモリを効率よく使用でき、少ない行数でかけます。"
   ]
  },
  {
   "cell_type": "code",
   "execution_count": 18,
   "metadata": {
    "collapsed": false
   },
   "outputs": [
    {
     "name": "stdout",
     "output_type": "stream",
     "text": [
      "[expression 213/0, expression 217/0, expression 221/0]\n"
     ]
    }
   ],
   "source": [
    "state = rnnbuilder.initial_state()\n",
    "xs = [x1, x1, x1]\n",
    "outputs = state.transduce(xs)\n",
    "print(outputs)"
   ]
  },
  {
   "cell_type": "markdown",
   "metadata": {},
   "source": [
    "# 言葉レベルのLSTM\n",
    "\n",
    "ここから本格的な応用に入ります。言葉レベルのRNNですprint(outputs)\n",
    "\n",
    "* モデルのパラメータの初期的設定\n",
    "* 言葉の設定。\n",
    "* 明示的に終了と始まり符号を表す<EOS>を追加\n",
    "* コンピューターで扱うため、数字と文字の変換用の辞書を用意"
   ]
  },
  {
   "cell_type": "code",
   "execution_count": 19,
   "metadata": {
    "collapsed": true
   },
   "outputs": [],
   "source": [
    "import random\n",
    "from collections import defaultdict\n",
    "from itertools import count\n",
    "import sys\n",
    "\n",
    "LAYERS = 2\n",
    "INPUT_DIM = 50 \n",
    "HIDDEN_DIM = 50  \n",
    "\n",
    "characters = list(\"abcdefghijklmnopqrstuvwxyz \")\n",
    "characters.append(\"<EOS>\")\n",
    "\n",
    "int2char = list(characters)\n",
    "char2int = {c:i for i,c in enumerate(characters)}\n",
    "\n",
    "VOCAB_SIZE = len(characters)"
   ]
  },
  {
   "cell_type": "markdown",
   "metadata": {},
   "source": [
    "# モデルの設定\n",
    "\n",
    "* modelのパラメータ設定\n",
    "* 61ページにlookupパラメータの意味があります。Word Embeddingのためです。\n",
    "http://phontron.com/slides/emnlp2016-dynet-tutorial-part1.pdf\n",
    "* params[\"lookup\"]は入力用\n",
    "* params[\"R\"]は出力用\n",
    "* params[\"bias\"]はバイアス用"
   ]
  },
  {
   "cell_type": "code",
   "execution_count": 20,
   "metadata": {
    "collapsed": true
   },
   "outputs": [],
   "source": [
    "model = Model()\n",
    "\n",
    "\n",
    "srnn = SimpleRNNBuilder(LAYERS, INPUT_DIM, HIDDEN_DIM, model)\n",
    "lstm = LSTMBuilder(LAYERS, INPUT_DIM, HIDDEN_DIM, model)\n",
    "\n",
    "params = {}\n",
    "params[\"lookup\"] = model.add_lookup_parameters((VOCAB_SIZE, INPUT_DIM))\n",
    "params[\"R\"] = model.add_parameters((VOCAB_SIZE, HIDDEN_DIM))\n",
    "params[\"bias\"] = model.add_parameters((VOCAB_SIZE))"
   ]
  },
  {
   "cell_type": "markdown",
   "metadata": {},
   "source": [
    "* 一つの文章に対してのメソッド：文章ごと長さが異なり処理を分けたいため定義\n",
    "* pick関数は資料の38ページ参照\n",
    "https://media.readthedocs.org/pdf/dynet/latest/dynet.pdf"
   ]
  },
  {
   "cell_type": "code",
   "execution_count": 21,
   "metadata": {
    "collapsed": true
   },
   "outputs": [],
   "source": [
    "# return compute loss of RNN for one sentence\n",
    "def do_one_sentence(rnn, sentence):\n",
    "    # setup the sentence\n",
    "    renew_cg()\n",
    "    s0 = rnn.initial_state()\n",
    "    \n",
    "    \n",
    "    R = parameter(params[\"R\"])\n",
    "    bias = parameter(params[\"bias\"])\n",
    "    lookup = params[\"lookup\"]\n",
    "    sentence = [\"<EOS>\"] + list(sentence) + [\"<EOS>\"]\n",
    "    sentence = [char2int[c] for c in sentence]\n",
    "    s = s0\n",
    "    loss = []\n",
    "    for char,next_char in zip(sentence,sentence[1:]):\n",
    "        s = s.add_input(lookup[char])\n",
    "        probs = softmax(R*s.output() + bias)\n",
    "        loss.append( -log(pick(probs,next_char)) )\n",
    "    loss = esum(loss)\n",
    "    return loss"
   ]
  },
  {
   "cell_type": "markdown",
   "metadata": {},
   "source": [
    "モデルからの文字列生成"
   ]
  },
  {
   "cell_type": "code",
   "execution_count": 22,
   "metadata": {
    "collapsed": false
   },
   "outputs": [],
   "source": [
    "# generate from model:\n",
    "def generate(rnn):\n",
    "    def sample(probs):\n",
    "        rnd = random.random()\n",
    "        for i,p in enumerate(probs):\n",
    "            rnd -= p\n",
    "            if rnd <= 0: break\n",
    "        return i\n",
    "    \n",
    "    # setup the sentence\n",
    "    renew_cg()\n",
    "    s0 = rnn.initial_state()\n",
    "    \n",
    "    R = parameter(params[\"R\"])\n",
    "    bias = parameter(params[\"bias\"])\n",
    "    lookup = params[\"lookup\"]\n",
    "    \n",
    "    s = s0.add_input(lookup[char2int[\"<EOS>\"]])\n",
    "    out=[]\n",
    "    while True:\n",
    "        probs = softmax(R*s.output() + bias)\n",
    "        probs = probs.vec_value()\n",
    "        next_char = sample(probs)\n",
    "        out.append(int2char[next_char])\n",
    "        if out[-1] == \"<EOS>\": break\n",
    "        s = s.add_input(lookup[next_char])\n",
    "    return \"\".join(out[:-1]) # strip the <EOS>"
   ]
  },
  {
   "cell_type": "markdown",
   "metadata": {},
   "source": [
    "学習のための関数"
   ]
  },
  {
   "cell_type": "code",
   "execution_count": 23,
   "metadata": {
    "collapsed": true
   },
   "outputs": [],
   "source": [
    "def train(rnn, sentence):\n",
    "    trainer = SimpleSGDTrainer(model)\n",
    "    for i in range(200):\n",
    "        loss = do_one_sentence(rnn, sentence)\n",
    "        loss_value = loss.value()\n",
    "        loss.backward()\n",
    "        trainer.update()\n",
    "        if i % 5 == 0:\n",
    "            print(loss_value)\n",
    "            print(generate(rnn))"
   ]
  },
  {
   "cell_type": "markdown",
   "metadata": {},
   "source": [
    "#実行例 RNN"
   ]
  },
  {
   "cell_type": "code",
   "execution_count": 24,
   "metadata": {
    "collapsed": false
   },
   "outputs": [
    {
     "name": "stdout",
     "output_type": "stream",
     "text": [
      "162.6923828125\n",
      "ijirerdeo\n",
      "94.03389739990234\n",
      "lqazd hjohkbeyinoo qhbokdr m zp xxe qeg\n",
      "51.72581481933594\n",
      "fo udxm dxe jzbd q\n",
      "29.075246810913086\n",
      "jlsun daqu umidvg\n",
      "10.539573669433594\n",
      "yllzw tfmr tue lagyv ky lownowmi znefoqujck  weunvtp z\n",
      "3.530012607574463\n",
      "a quick brown fox jumped over the laz\n",
      "1.117006778717041\n",
      "a luick broqn fox jumpkd over the lazy dog\n",
      "0.6907472014427185\n",
      "a qupck brown fox jumked over the lazy dog\n",
      "0.5008178353309631\n",
      "a quick brown fox jumped over the lazy dog\n",
      "0.39229434728622437\n",
      "a quick brown fox jumped over the lazy dog\n",
      "0.3220541477203369\n",
      "a quick brown fox jumped over the lazy dog\n",
      "0.2728939652442932\n",
      "a quick brown fox jumped over the lazy dog\n",
      "0.2365807443857193\n",
      "a quick brown fox jumped over the lazy dog\n",
      "0.20867912471294403\n",
      "a quick brown fox jumped over the lazy dog\n",
      "0.18658441305160522\n",
      "a quick brown fox jumped over the lazy dog\n",
      "0.1686524897813797\n",
      "a quick brown fox jumped over the lazy dog\n",
      "0.1538228988647461\n",
      "a quick brown fox jumped over the lazy dog\n",
      "0.14135073125362396\n",
      "a quick brown fox jumped over the lazy dog\n",
      "0.13072578608989716\n",
      "a quick brown fox jumped over the lazy dog\n",
      "0.12156018614768982\n",
      "a quick brown fox jumped over the lazy dog\n",
      "0.11357774585485458\n",
      "a quick brown fox jumped over the lazy dog\n",
      "0.10656245797872543\n",
      "a quick brown fox jumped over the lazy dog\n",
      "0.10035617649555206\n",
      "a quick brown fox jumped over the lazy dog\n",
      "0.09482207149267197\n",
      "a quick brown fox jumped over the lazy dog\n",
      "0.0898551493883133\n",
      "a quick brown fox jumped over the lazy dog\n",
      "0.08537557721138\n",
      "a quick brown fox jumped over the lazy dog\n",
      "0.08131803572177887\n",
      "a quick brown fox jumped over the lazy dog\n",
      "0.07761944830417633\n",
      "a quick brown fox jumped over the lazy dog\n",
      "0.07423614710569382\n",
      "a quick brown fox jumped over the lazy dog\n",
      "0.07113558053970337\n",
      "a quick brown fox jumped over the lazy dog\n",
      "0.06827551126480103\n",
      "a quick brown fox jumped over the lazy dog\n",
      "0.06564146280288696\n",
      "a quick brown fox jumped over the jazy dog\n",
      "0.06319423019886017\n",
      "a quick brown fox jumped over the lazy dog\n",
      "0.060917820781469345\n",
      "a quick brown fox jumped over the lazy dog\n",
      "0.05880848690867424\n",
      "a quick brown fox jumped over the lazy dog\n",
      "0.056827619671821594\n",
      "a quick brown fox jumped over the lazy dog\n",
      "0.054980043321847916\n",
      "a quick brown fox jumped over the lazy dog\n",
      "0.05324443429708481\n",
      "a quick brown fox jumped over the lazy dog\n",
      "0.051610901951789856\n",
      "a quick brown fox jumped over the lazy dog\n",
      "0.050076358020305634\n",
      "a quick brown fox jumped over the lazy dog\n"
     ]
    }
   ],
   "source": [
    "sentence = \"a quick brown fox jumped over the lazy dog\"\n",
    "train(srnn, sentence)"
   ]
  },
  {
   "cell_type": "markdown",
   "metadata": {},
   "source": [
    "#実行例 LSTM"
   ]
  },
  {
   "cell_type": "code",
   "execution_count": 25,
   "metadata": {
    "collapsed": false
   },
   "outputs": [
    {
     "name": "stdout",
     "output_type": "stream",
     "text": [
      "143.7174530029297\n",
      "bo \n",
      "130.62815856933594\n",
      "ve zdohact oajgok \n",
      "123.93404388427734\n",
      "lnowegj wfteau  di okoe do wdocfpmdub  t ohwlbuetguvuogdks\n",
      "115.06339263916016\n",
      "ne\n",
      "101.93220520019531\n",
      "k qii odxm oexyoo dxfo kmggdvednpvufeze d adugn coxod xpow xe xr wyp ocy nuojg oentn noqd ho\n",
      "91.08451843261719\n",
      "ofn igr woo bjbxd ne xed j\n",
      "75.37924194335938\n",
      " uu huee lap aayw ugop exr kqcr coyz  or\n",
      "61.78849792480469\n",
      "g ocrt rbx rown mjmred orenr fbwddoro of\n",
      "50.449432373046875\n",
      "n upke ove hzvdb\n",
      "40.671566009521484\n",
      " qnc ijk rwn oown wfi ummed oah lau uzhcr bo\n",
      "32.17814254760742\n",
      "f qukg\n",
      "22.785524368286133\n",
      "aq uizdk brwrnn fuoc hra  oime dorr tve lzrz dog\n",
      "17.198972702026367\n",
      "qa quijped ooher lhlek qahy oogx over the ltaz ogb\n",
      "12.214446067810059\n",
      "fy quicc baokf fox jjck brow fox mumep oae zced ao\n",
      "8.37203598022461\n",
      "p  jhk boww fox juce over the tay dog\n",
      "4.8374786376953125\n",
      "a quick brownff ox juppp\n",
      "2.964689254760742\n",
      "a quick brown fox jumped over the lazy dug\n",
      "1.7102702856063843\n",
      "a qzick brown fox jumped over the lazy dog\n",
      "1.281699776649475\n",
      "a quick brown fox jumped over the lazy do\n",
      "1.0205620527267456\n",
      "a quick brown fox jumped over the lazy dog\n",
      "0.845181941986084\n",
      "a quick rown fox jumped over the lazy dog\n",
      "0.7196477651596069\n",
      "a qun dox jzmped over the lazy dog\n",
      "0.6255860328674316\n",
      "a quick brown fox jumped over the lazy dog\n",
      "0.5526147484779358\n",
      "a quicd brown fox jumped over the lazy\n",
      "0.4944339096546173\n",
      "a quick brown fox jumped over the lazy dog\n",
      "0.4470164477825165\n",
      "a quick brown fox jumped over the lazy dog\n",
      "0.40766891837120056\n",
      "a quick brown fox jumped over hhe lazy dog\n",
      "0.3745092749595642\n",
      "a quick brown fox jumped over the lazy dog\n",
      "0.3461991250514984\n",
      "a quick brown fox jumped over the lazy dog\n",
      "0.3217695951461792\n",
      "a quick brown fox jumped over the lazy dog\n",
      "0.3004704713821411\n",
      "a quick brown fox jumped over the lazy dog\n",
      "0.28174668550491333\n",
      "a quick brown fox jumped over the lazy dog\n",
      "0.2651667892932892\n",
      "a quick brown fox juiped over the lazy dog\n",
      "0.2503829300403595\n",
      "a quick brown fox jumped over the lazy dog\n",
      "0.23712098598480225\n",
      "a quick brown fox jumped over the lazy dog\n",
      "0.22516539692878723\n",
      "a quick brown fox jumped over the lazy dog\n",
      "0.21432778239250183\n",
      "a quick brown fox jumped over the lazy dog\n",
      "0.20446309447288513\n",
      "a quick brown fox jumped over the lazy dog\n",
      "0.19544048607349396\n",
      "a quick brown fox jumped over the lazy dog\n",
      "0.187165305018425\n",
      "a quick brown fox jumped over the lazy dog\n"
     ]
    }
   ],
   "source": [
    "sentence = \"a quick brown fox jumped over the lazy dog\"\n",
    "train(lstm, sentence)"
   ]
  },
  {
   "cell_type": "code",
   "execution_count": null,
   "metadata": {
    "collapsed": true
   },
   "outputs": [],
   "source": [
    ""
   ]
  }
 ],
 "metadata": {
  "kernelspec": {
   "display_name": "Python 3",
   "language": "python",
   "name": "python3"
  },
  "language_info": {
   "codemirror_mode": {
    "name": "ipython",
    "version": 3.0
   },
   "file_extension": ".py",
   "mimetype": "text/x-python",
   "name": "python",
   "nbconvert_exporter": "python",
   "pygments_lexer": "ipython3",
   "version": "3.4.3"
  }
 },
 "nbformat": 4,
 "nbformat_minor": 0
}